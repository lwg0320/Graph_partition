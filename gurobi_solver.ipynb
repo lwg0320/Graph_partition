{
 "cells": [
  {
   "cell_type": "code",
   "execution_count": 58,
   "metadata": {},
   "outputs": [],
   "source": [
    "%matplotlib inline\n",
    "import matplotlib.pyplot as plt\n",
    "import numpy as np \n",
    "import pandas as pd\n",
    "import networkx as nx\n",
    "from parse import *\n",
    "from utils  import *\n",
    "from pulp import *\n",
    "from math import comb\n",
    "import gurobipy as gp\n",
    "from gurobipy import GRB"
   ]
  },
  {
   "cell_type": "code",
   "execution_count": null,
   "metadata": {},
   "outputs": [],
   "source": []
  },
  {
   "cell_type": "code",
   "execution_count": null,
   "metadata": {},
   "outputs": [],
   "source": []
  },
  {
   "cell_type": "code",
   "execution_count": null,
   "metadata": {},
   "outputs": [],
   "source": []
  },
  {
   "cell_type": "code",
   "execution_count": null,
   "metadata": {},
   "outputs": [],
   "source": []
  },
  {
   "cell_type": "code",
   "execution_count": 59,
   "metadata": {},
   "outputs": [],
   "source": [
    "inputs = pd.read_csv(\"samples/10.in\", header = None)\n",
    "n = int(list(inputs[0])[0])\n",
    "s_max = float(list(inputs[0])[1])\n",
    "K = 3"
   ]
  },
  {
   "cell_type": "code",
   "execution_count": 60,
   "metadata": {},
   "outputs": [
    {
     "data": {
      "text/plain": [
       "True"
      ]
     },
     "execution_count": 60,
     "metadata": {},
     "output_type": "execute_result"
    }
   ],
   "source": [
    "# Parsing input data \n",
    "df = inputs\n",
    "df = pd.DataFrame([x.split() for x in df[0].tolist() ])\n",
    "df = df.loc[2:,:]\n",
    "df[\"i\"] = df.loc[:,0]\n",
    "df[\"j\"] = df.loc[:,1]\n",
    "df[\"sadness\"] = df.loc[:,3]\n",
    "df[\"happiness\"] = df.loc[:,2]\n",
    "df = df[[\"i\", \"j\", \"sadness\", \"happiness\"]]\n",
    "\n",
    "i_id = [int(i) for i in list(df[\"i\"])]\n",
    "j_id = [int(i) for i in list(df[\"j\"])]\n",
    "sadness = [float(i) for i in list(df[\"sadness\"])]*K\n",
    "happiness = [float(i) for i in list(df[\"happiness\"])]*K\n",
    "\n",
    "sadness_1 = [float(i) for i in list(df[\"sadness\"])]\n",
    "happiness_1 = [float(i) for i in list(df[\"happiness\"])]\n",
    "len(sadness) == len(happiness)"
   ]
  },
  {
   "cell_type": "code",
   "execution_count": 61,
   "metadata": {},
   "outputs": [],
   "source": [
    "m = gp.Model(\"proj\")"
   ]
  },
  {
   "cell_type": "code",
   "execution_count": 62,
   "metadata": {},
   "outputs": [
    {
     "name": "stdout",
     "output_type": "stream",
     "text": [
      "True\n",
      "True\n"
     ]
    }
   ],
   "source": [
    "# Some stuff\n",
    "\n",
    "d_e = {}\n",
    "for k in range(K):\n",
    "    for i in range(comb(n,2)):\n",
    "        d_e[\"e_{0}_{1}_{2}\".format(i_id[i],j_id[i],k)] = m.addVar(name= \"e_{0}_{1}_{2}\".format(i_id[i],j_id[i],k), vtype = GRB.BINARY)\n",
    "edges_1 = list(d_e.values())\n",
    "\n",
    "# Create another edge array with different sort\n",
    "edges_2 = [d_e.get(i) for i in sorted(d_e.keys(), key=lambda x: (x[2], x[4]))]\n",
    "\n",
    "# Create another edge array for constraint 4 \n",
    "edges_3 = [d_e.get(i) for i in sorted(d_e.keys(), key=lambda x: (x[2], x[6]))]\n",
    "\n",
    "# Check\n",
    "print(len(edges_1) == comb(n,2)*K)\n",
    "     \n",
    "# vertices \n",
    "d_v = {}\n",
    "for j in range(K):\n",
    "    for i in range(n):\n",
    "        d_v[\"v_{0}_{1}\".format(i,j)] = m.addVar(name = \"v_{0}_{1}\".format(i,j),  vtype = GRB.BINARY)\n",
    "vertices_1 = list(d_v.values())\n",
    "\n",
    "# Create another edge array with different sort\n",
    "vertices_2 = [d_v.get(i) for i in sorted(d_v.keys(), key=lambda x: x[2])]\n",
    "\n",
    "# Check\n",
    "print(len(vertices_1) == n*K)"
   ]
  },
  {
   "cell_type": "code",
   "execution_count": 63,
   "metadata": {},
   "outputs": [
    {
     "name": "stdout",
     "output_type": "stream",
     "text": [
      "True\n",
      "True\n"
     ]
    }
   ],
   "source": [
    "# Linearization of quadratic variables 1 \n",
    "v_list = np.array(np.array_split(vertices_1, K)).tolist()\n",
    "v_big = []\n",
    "for i in range(K):\n",
    "    j = 0\n",
    "    while j != n:\n",
    "        for _ in range(j,n-1):\n",
    "            v_big.append(v_list[i][j])\n",
    "        j += 1\n",
    "        \n",
    "print(len(edges_1) == len(v_big))\n",
    "\n",
    "# Linearization of quadratic variables 2\n",
    "v_list_2 = [i[1:] for i in v_list]\n",
    "v_big_2 = []\n",
    "for h in range(K):\n",
    "    j = 0\n",
    "    while j != n:\n",
    "        for i in range(j,n-1):\n",
    "            v_big_2.append(v_list_2[h][i])\n",
    "        j += 1\n",
    "        i = j\n",
    "print(len(edges_1) == len(v_big_2))"
   ]
  },
  {
   "cell_type": "code",
   "execution_count": 64,
   "metadata": {},
   "outputs": [],
   "source": [
    "m.setObjective(sum(edges_1[i] * happiness[i] for i in range(len(happiness))), GRB.MAXIMIZE)"
   ]
  },
  {
   "cell_type": "code",
   "execution_count": 65,
   "metadata": {},
   "outputs": [],
   "source": [
    "aa = []\n",
    "h = 0\n",
    "for i in range(K):\n",
    "    for j in range(comb(n,2)):\n",
    "        aa.append(edges_1[h] * sadness_1[j])\n",
    "        h += 1\n",
    "\n",
    "constraint_2 = [sum(aa[i:i+ comb(n,2)]) for i in range(0, len(aa), comb(n,2))]\n",
    "for i in range(len(constraint_2)):\n",
    "    m.addConstr(constraint_2[i] <=  s_max / K)\n",
    "\n",
    "constraint_3 = [sum(vertices_2[i:i + K]) for i in range(0, len(vertices_2), K)]\n",
    "for i in range(len(constraint_3)):\n",
    "    m.addConstr(constraint_3[i] == 1)"
   ]
  },
  {
   "cell_type": "code",
   "execution_count": 66,
   "metadata": {},
   "outputs": [],
   "source": [
    "# Constraint 4'\n",
    "for i in range(len(edges_1)):\n",
    "    m.addConstr(edges_1[i] == v_big[i] * v_big_2[i])"
   ]
  },
  {
   "cell_type": "code",
   "execution_count": 67,
   "metadata": {
    "collapsed": true
   },
   "outputs": [
    {
     "name": "stdout",
     "output_type": "stream",
     "text": [
      "Changed value of parameter TimeLimit to 100.0\n",
      "   Prev: inf  Min: 0.0  Max: inf  Default: inf\n",
      "Gurobi Optimizer version 9.1.0 build v9.1.0rc0 (mac64)\n",
      "Thread count: 2 physical cores, 4 logical processors, using up to 4 threads\n",
      "Optimize a model with 13 rows, 165 columns and 165 nonzeros\n",
      "Model fingerprint: 0x84c37fce\n",
      "Model has 135 quadratic constraints\n",
      "Variable types: 0 continuous, 165 integer (165 binary)\n",
      "Coefficient statistics:\n",
      "  Matrix range     [1e+00, 1e+01]\n",
      "  QMatrix range    [1e+00, 1e+00]\n",
      "  QLMatrix range   [1e+00, 1e+00]\n",
      "  Objective range  [2e+00, 1e+01]\n",
      "  Bounds range     [1e+00, 1e+00]\n",
      "  RHS range        [1e+00, 3e+01]\n",
      "Presolve time: 0.00s\n",
      "Presolved: 553 rows, 300 columns, 1380 nonzeros\n",
      "Variable types: 0 continuous, 300 integer (300 binary)\n",
      "Found heuristic solution: objective 70.0000000\n",
      "\n",
      "Root relaxation: objective -1.068825e+02, 163 iterations, 0.01 seconds\n",
      "\n",
      "    Nodes    |    Current Node    |     Objective Bounds      |     Work\n",
      " Expl Unexpl |  Obj  Depth IntInf | Incumbent    BestBd   Gap | It/Node Time\n",
      "\n",
      "     0     0  106.88248    0   66   70.00000  106.88248  52.7%     -    0s\n",
      "     0     0   99.67305    0   74   70.00000   99.67305  42.4%     -    0s\n",
      "     0     0   95.40047    0   55   70.00000   95.40047  36.3%     -    0s\n",
      "H    0     0                      79.0000000   95.40047  20.8%     -    0s\n",
      "H    0     0                      82.0000000   95.40047  16.3%     -    0s\n",
      "     0     0   95.39592    0   53   82.00000   95.39592  16.3%     -    0s\n",
      "     0     0   92.71568    0   74   82.00000   92.71568  13.1%     -    0s\n",
      "     0     0   92.70664    0   76   82.00000   92.70664  13.1%     -    0s\n",
      "     0     0   91.90295    0   74   82.00000   91.90295  12.1%     -    0s\n",
      "     0     0   91.90295    0   74   82.00000   91.90295  12.1%     -    0s\n",
      "     0     0   89.73912    0   62   82.00000   89.73912  9.44%     -    0s\n",
      "     0     0   89.73912    0   51   82.00000   89.73912  9.44%     -    0s\n",
      "     0     0   89.73912    0   58   82.00000   89.73912  9.44%     -    0s\n",
      "     0     0   89.73912    0   51   82.00000   89.73912  9.44%     -    0s\n",
      "     0     0   89.73912    0   61   82.00000   89.73912  9.44%     -    0s\n",
      "     0     0   89.73912    0   58   82.00000   89.73912  9.44%     -    0s\n",
      "     0     2   88.30754    0   58   82.00000   88.30754  7.69%     -    0s\n",
      "\n",
      "Cutting planes:\n",
      "  Gomory: 1\n",
      "  Cover: 1\n",
      "  GUB cover: 1\n",
      "  Zero half: 21\n",
      "  RLT: 37\n",
      "  BQP: 9\n",
      "\n",
      "Explored 21 nodes (1297 simplex iterations) in 0.44 seconds\n",
      "Thread count was 4 (of 4 available processors)\n",
      "\n",
      "Solution count 3: 82 79 70 \n",
      "\n",
      "Optimal solution found (tolerance 1.00e-04)\n",
      "Best objective 8.200000000000e+01, best bound 8.200000000000e+01, gap 0.0000%\n"
     ]
    }
   ],
   "source": [
    "hardlimit = 100\n",
    "m.setParam('TimeLimit', hardlimit)\n",
    "m.optimize()"
   ]
  },
  {
   "cell_type": "code",
   "execution_count": 68,
   "metadata": {},
   "outputs": [
    {
     "data": {
      "text/plain": [
       "82.0"
      ]
     },
     "execution_count": 68,
     "metadata": {},
     "output_type": "execute_result"
    }
   ],
   "source": [
    "pairs = m.getVars()[0 : len(m.getVars()) - n*K]\n",
    "people = m.getVars()[len(m.getVars()) - n*K : len(m.getVars())]\n",
    "people_values = [v.X for v in people]\n",
    "people_values = np.array_split(people_values, K)\n",
    "pair_values = [v.X for v in pairs]\n",
    "np.sum(np.multiply(pair_values, happiness))"
   ]
  },
  {
   "cell_type": "code",
   "execution_count": 100,
   "metadata": {},
   "outputs": [],
   "source": [
    "output_dict = {}\n",
    "for k in range(K):\n",
    "    arr = []\n",
    "    for i in range(n):\n",
    "        if people_values[k][i] == 1: \n",
    "            arr += [i]\n",
    "            output_dict[k] = arr"
   ]
  },
  {
   "cell_type": "code",
   "execution_count": 99,
   "metadata": {},
   "outputs": [
    {
     "data": {
      "text/plain": [
       "{0: [0, 2, 5], 1: [3, 4, 6, 8], 2: [1, 7, 9]}"
      ]
     },
     "execution_count": 99,
     "metadata": {},
     "output_type": "execute_result"
    }
   ],
   "source": [
    "output_dict"
   ]
  },
  {
   "cell_type": "code",
   "execution_count": null,
   "metadata": {},
   "outputs": [],
   "source": []
  },
  {
   "cell_type": "code",
   "execution_count": null,
   "metadata": {},
   "outputs": [],
   "source": []
  }
 ],
 "metadata": {
  "kernelspec": {
   "display_name": "Python 3",
   "language": "python",
   "name": "python3"
  },
  "language_info": {
   "codemirror_mode": {
    "name": "ipython",
    "version": 3
   },
   "file_extension": ".py",
   "mimetype": "text/x-python",
   "name": "python",
   "nbconvert_exporter": "python",
   "pygments_lexer": "ipython3",
   "version": "3.9.0"
  },
  "latex_envs": {
   "LaTeX_envs_menu_present": true,
   "autoclose": true,
   "autocomplete": true,
   "bibliofile": "biblio.bib",
   "cite_by": "apalike",
   "current_citInitial": 1,
   "eqLabelWithNumbers": true,
   "eqNumInitial": 1,
   "hotkeys": {
    "equation": "Ctrl-E",
    "itemize": "Ctrl-I"
   },
   "labels_anchors": false,
   "latex_user_defs": false,
   "report_style_numbering": false,
   "user_envs_cfg": false
  },
  "toc": {
   "base_numbering": 1,
   "nav_menu": {},
   "number_sections": true,
   "sideBar": true,
   "skip_h1_title": false,
   "title_cell": "Table of Contents",
   "title_sidebar": "Contents",
   "toc_cell": false,
   "toc_position": {},
   "toc_section_display": true,
   "toc_window_display": false
  },
  "varInspector": {
   "cols": {
    "lenName": 16,
    "lenType": 16,
    "lenVar": 40
   },
   "kernels_config": {
    "python": {
     "delete_cmd_postfix": "",
     "delete_cmd_prefix": "del ",
     "library": "var_list.py",
     "varRefreshCmd": "print(var_dic_list())"
    },
    "r": {
     "delete_cmd_postfix": ") ",
     "delete_cmd_prefix": "rm(",
     "library": "var_list.r",
     "varRefreshCmd": "cat(var_dic_list()) "
    }
   },
   "types_to_exclude": [
    "module",
    "function",
    "builtin_function_or_method",
    "instance",
    "_Feature"
   ],
   "window_display": false
  }
 },
 "nbformat": 4,
 "nbformat_minor": 4
}
