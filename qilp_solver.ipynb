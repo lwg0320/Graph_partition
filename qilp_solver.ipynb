{
 "cells": [
  {
   "cell_type": "markdown",
   "metadata": {},
   "source": [
    "# Modular Gurobi Solver "
   ]
  },
  {
   "cell_type": "code",
   "execution_count": 1,
   "metadata": {},
   "outputs": [],
   "source": [
    "# %matplotlib inline\n",
    "# import matplotlib.pyplot as plt\n",
    "import numpy as np \n",
    "import pandas as pd\n",
    "import networkx as nx\n",
    "from parse import *\n",
    "from utils  import *\n",
    "# from pulp import *\n",
    "from math import *\n",
    "import gurobipy as gp\n",
    "from gurobipy import GRB"
   ]
  },
  {
   "cell_type": "markdown",
   "metadata": {},
   "source": [
    "## Solver"
   ]
  },
  {
   "cell_type": "code",
   "execution_count": 2,
   "metadata": {},
   "outputs": [],
   "source": [
    "def parse_inputs(inputs, K):\n",
    "    df = inputs\n",
    "    df = pd.DataFrame([x.split() for x in df[0].tolist() ])\n",
    "    df = df.loc[2:,:]\n",
    "    df[\"i\"] = df.loc[:,0]\n",
    "    df[\"j\"] = df.loc[:,1]\n",
    "    df[\"sadness\"] = df.loc[:,3]\n",
    "    df[\"happiness\"] = df.loc[:,2]\n",
    "    df = df[[\"i\", \"j\", \"sadness\", \"happiness\"]]\n",
    "\n",
    "    i_id = [int(i) for i in list(df[\"i\"])]\n",
    "    j_id = [int(i) for i in list(df[\"j\"])]\n",
    "    sadness = [float(i) for i in list(df[\"sadness\"])]*K\n",
    "    happiness = [float(i) for i in list(df[\"happiness\"])]*K\n",
    "\n",
    "    sadness_1 = [float(i) for i in list(df[\"sadness\"])]\n",
    "    happiness_1 = [float(i) for i in list(df[\"happiness\"])]\n",
    "    \n",
    "    return i_id, j_id, sadness, happiness, sadness_1, happiness_1 "
   ]
  },
  {
   "cell_type": "code",
   "execution_count": 3,
   "metadata": {},
   "outputs": [],
   "source": [
    "def create_variables(N, K, dict_e, dict_v):\n",
    "    # edges \n",
    "    edges_1 = list(dict_e.values())\n",
    "\n",
    "    # Create another edge array with different sort\n",
    "    edges_2 = [dict_e.get(i) for i in sorted(dict_e.keys(), key=lambda x: (x[2], x[4]))]\n",
    "\n",
    "    # Create another edge array for constraint 4 \n",
    "    edges_3 = [dict_e.get(i) for i in sorted(dict_e.keys(), key=lambda x: (x[2], x[6]))]\n",
    "\n",
    "\n",
    "    # vertices \n",
    "    vertices_1 = list(dict_v.values())\n",
    "\n",
    "    # Create another edge array with different sort\n",
    "#     vertices_2 = [dict_v.get(i) for i in sorted(dict_v.keys(), key=lambda x: x[2])]\n",
    "    vertices_2 = [dict_v.get(i) for i in sorted(dict_v.keys())]\n",
    "    \n",
    "    # Quadratic variables 1 \n",
    "    v_list = np.array(np.array_split(vertices_1, K)).tolist()\n",
    "    v_big = []\n",
    "    for i in range(K):\n",
    "        j = 0\n",
    "        while j != N:\n",
    "            for _ in range(j,N-1):\n",
    "                v_big.append(v_list[i][j])\n",
    "            j += 1\n",
    "\n",
    "    # Quadratic variables 2\n",
    "    v_list_2 = [i[1:] for i in v_list]\n",
    "    v_big_2 = []\n",
    "    for h in range(K):\n",
    "        j = 0\n",
    "        while j != N:\n",
    "            for i in range(j,N-1):\n",
    "                v_big_2.append(v_list_2[h][i])\n",
    "            j += 1\n",
    "            i = j\n",
    "    \n",
    "    return edges_1, edges_2, edges_3, vertices_1, vertices_2, v_big, v_big_2"
   ]
  },
  {
   "cell_type": "code",
   "execution_count": 4,
   "metadata": {},
   "outputs": [],
   "source": [
    "def constraint_helper(edges_1, sadness_1, vertices_2, N, K):\n",
    "    aa = []\n",
    "    h = 0\n",
    "    for i in range(K):\n",
    "        for j in range(comb(N,2)):\n",
    "            aa.append(edges_1[h] * sadness_1[j])\n",
    "            h += 1\n",
    "    constraint_1 = [sum(aa[i:i+ comb(N,2)]) for i in range(0, len(aa), comb(N,2))]\n",
    "    constraint_2 = [sum(vertices_2[i:i + K]) for i in range(0, len(vertices_2), K)]\n",
    "    return constraint_1, constraint_2"
   ]
  },
  {
   "cell_type": "code",
   "execution_count": 13,
   "metadata": {},
   "outputs": [],
   "source": [
    "def gurobi_solver(path, rooms, time_limit):\n",
    "    '''\n",
    "    Main solver function \n",
    "    \n",
    "    path = location of the input file \n",
    "    rooms = number of rooms to open \n",
    "    time_limit = time limit for model runtime\n",
    "    '''\n",
    "    # Parsing input data \n",
    "    inputs = pd.read_csv(path, header = None)\n",
    "    N = int(list(inputs[0])[0])\n",
    "    s_max = float(list(inputs[0])[1])\n",
    "    K = rooms\n",
    "    i_id, j_id, sadness, happiness, sadness_1, happiness_1 = parse_inputs(inputs, K)\n",
    "\n",
    "    # Initialize model\n",
    "    m = gp.Model(\"proj\")\n",
    "    m.setParam('OutputFlag', 0)\n",
    "    m.setParam(\"TuneOutput\", 0)\n",
    "    # Create arrays to help with methods \n",
    "    dict_e = {}\n",
    "    for k in range(K):\n",
    "        for i in range(comb(N, 2)):\n",
    "            dict_e[\"e_{0}_{1}_{2}\".format(i_id[i],j_id[i],k)] = m.addVar(name= \"e_{0}_{1}_{2}\".format(i_id[i],j_id[i],k), vtype = GRB.BINARY)\n",
    "\n",
    "    dict_v = {}\n",
    "    for j in range(K):\n",
    "        for i in range(N):\n",
    "            dict_v[\"v_{0}_{1}\".format(i,j)] = m.addVar(name = \"v_{0}_{1}\".format(i,j),  vtype = GRB.BINARY)\n",
    "\n",
    "\n",
    "    edges_1, edges_2, edges_3, vertices_1, vertices_2, v_big, v_big_2 = create_variables(N, K, dict_e, dict_v)\n",
    "\n",
    "    # Set Object function \n",
    "    m.setObjective(sum(edges_1[i] * happiness[i] for i in range(len(happiness))), GRB.MAXIMIZE)\n",
    "\n",
    "    # Helper method to create constraints \n",
    "    constraint_1, constraint_2 = constraint_helper(edges_1, sadness_1, vertices_2, N, K)\n",
    "\n",
    "    # Add constraints \n",
    "    # Constraint 1 \n",
    "    for i in range(len(constraint_1)):\n",
    "        m.addConstr(constraint_1[i] <=  s_max / K) # Changes from float division \n",
    "    # Constraint 2\n",
    "    for i in range(len(constraint_2)):\n",
    "        m.addConstr(constraint_2[i] == 1)\n",
    "    # Constraint 3 \n",
    "    for i in range(len(edges_1)):\n",
    "        m.addConstr(edges_1[i] == v_big[i] * v_big_2[i])\n",
    "\n",
    "    # Optimize model \n",
    "    m.setParam('TimeLimit', time_limit)\n",
    "    m.optimize()\n",
    "    m.tune()\n",
    "    m.update()\n",
    "\n",
    "    # Get outputs \n",
    "    pairs = m.getVars()[0 : len(m.getVars()) - N*K]\n",
    "    people = m.getVars()[len(m.getVars()) - N*K : len(m.getVars())]\n",
    "    try:\n",
    "        people_values = [v.X for v in people]\n",
    "        people_values = np.array_split(people_values, K)\n",
    "        pair_values = [v.X for v in pairs]\n",
    "        output_dict = {}\n",
    "        for k in range(K):\n",
    "            arr = []\n",
    "            for i in range(N):\n",
    "                if people_values[k][i] == 1: \n",
    "                    arr += [i]\n",
    "                    output_dict[k] = arr\n",
    "                            \n",
    "    # Outputs \n",
    "        total_happiness = np.sum(np.multiply(pair_values, happiness))\n",
    "        total_sadness = np.sum(np.multiply(pair_values, sadness))\n",
    "        print(\"Total Sadness =\", total_sadness)\n",
    "        print(\"Total Happiness =\", total_happiness)\n",
    "        print(output_dict)\n",
    "        return total_happiness, output_dict\n",
    "    except:\n",
    "        print(\"No/Infeasible Solution with {0} rooms\".format(rooms))\n",
    "        return 0, {}"
   ]
  },
  {
   "cell_type": "code",
   "execution_count": 14,
   "metadata": {},
   "outputs": [],
   "source": [
    "def optimal_solver(K_1, K_2, path, time_limit):\n",
    "    max_total_happiness = 0\n",
    "    output_dict = {}\n",
    "    for room in range(K_1, K_2):\n",
    "        happiness, D = gurobi_solver(path, room, time_limit)\n",
    "        if happiness > max_total_happiness:\n",
    "            max_total_happiness = happiness\n",
    "            output_dict = D\n",
    "    return output_dict"
   ]
  },
  {
   "cell_type": "code",
   "execution_count": 15,
   "metadata": {},
   "outputs": [],
   "source": [
    "def write_files(size, r1, r2, time_limit, room_start, room_end):\n",
    "    for i in range(r1, r2 + 1):\n",
    "        D = optimal_solver(room_start,room_end, \"phase2/inputs/{0}/{0}-{1}.in\".format(size, i), time_limit)\n",
    "        output_dict = convert_dictionary(D)\n",
    "        write_output_file(output_dict, \"phase2/outputs/{0}/{0}-{1}.out\".format(size, i))"
   ]
  },
  {
   "cell_type": "code",
   "execution_count": 18,
   "metadata": {},
   "outputs": [
    {
     "name": "stdout",
     "output_type": "stream",
     "text": [
      "Total Sadness = 61.34899999999999\n",
      "Total Happiness = 2762.2200000000003\n",
      "{0: [0, 4, 7, 12, 13, 14], 1: [17], 2: [3], 3: [2, 5, 6, 10, 11]}\n"
     ]
    },
    {
     "data": {
      "text/plain": [
       "(2762.2200000000003,\n",
       " {0: [0, 4, 7, 12, 13, 14], 1: [17], 2: [3], 3: [2, 5, 6, 10, 11]})"
      ]
     },
     "execution_count": 18,
     "metadata": {},
     "output_type": "execute_result"
    }
   ],
   "source": [
    "# gurobi_solver(\"phase2/inputs/medium/medium-26.in\", 4, 60*10)"
   ]
  },
  {
   "cell_type": "code",
   "execution_count": null,
   "metadata": {},
   "outputs": [],
   "source": []
  },
  {
   "cell_type": "code",
   "execution_count": null,
   "metadata": {},
   "outputs": [],
   "source": []
  }
 ],
 "metadata": {
  "kernelspec": {
   "display_name": "Python 3",
   "language": "python",
   "name": "python3"
  },
  "language_info": {
   "codemirror_mode": {
    "name": "ipython",
    "version": 3
   },
   "file_extension": ".py",
   "mimetype": "text/x-python",
   "name": "python",
   "nbconvert_exporter": "python",
   "pygments_lexer": "ipython3",
   "version": "3.9.0"
  },
  "latex_envs": {
   "LaTeX_envs_menu_present": true,
   "autoclose": true,
   "autocomplete": true,
   "bibliofile": "biblio.bib",
   "cite_by": "apalike",
   "current_citInitial": 1,
   "eqLabelWithNumbers": true,
   "eqNumInitial": 1,
   "hotkeys": {
    "equation": "Ctrl-E",
    "itemize": "Ctrl-I"
   },
   "labels_anchors": false,
   "latex_user_defs": false,
   "report_style_numbering": false,
   "user_envs_cfg": false
  },
  "toc": {
   "base_numbering": 1,
   "nav_menu": {},
   "number_sections": true,
   "sideBar": true,
   "skip_h1_title": false,
   "title_cell": "Table of Contents",
   "title_sidebar": "Contents",
   "toc_cell": false,
   "toc_position": {},
   "toc_section_display": true,
   "toc_window_display": false
  },
  "varInspector": {
   "cols": {
    "lenName": 16,
    "lenType": 16,
    "lenVar": 40
   },
   "kernels_config": {
    "python": {
     "delete_cmd_postfix": "",
     "delete_cmd_prefix": "del ",
     "library": "var_list.py",
     "varRefreshCmd": "print(var_dic_list())"
    },
    "r": {
     "delete_cmd_postfix": ") ",
     "delete_cmd_prefix": "rm(",
     "library": "var_list.r",
     "varRefreshCmd": "cat(var_dic_list()) "
    }
   },
   "types_to_exclude": [
    "module",
    "function",
    "builtin_function_or_method",
    "instance",
    "_Feature"
   ],
   "window_display": false
  }
 },
 "nbformat": 4,
 "nbformat_minor": 4
}
