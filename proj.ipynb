{
 "cells": [
  {
   "cell_type": "markdown",
   "metadata": {
    "heading_collapsed": true
   },
   "source": [
    "# Experimentation"
   ]
  },
  {
   "cell_type": "code",
   "execution_count": 1,
   "metadata": {
    "hidden": true
   },
   "outputs": [],
   "source": [
    "%matplotlib inline\n",
    "import matplotlib.pyplot as plt\n",
    "import numpy as np \n",
    "import pandas as pd\n",
    "import networkx as nx\n",
    "from parse import *\n",
    "from utils  import *\n",
    "from pulp import *\n",
    "from math import comb\n",
    "import gurobipy as gp\n",
    "from gurobipy import GRB"
   ]
  },
  {
   "cell_type": "code",
   "execution_count": 507,
   "metadata": {
    "hidden": true
   },
   "outputs": [],
   "source": [
    "sample_input = pd.read_csv(\"samples/10.in\", header = None)\n",
    "sample_output = np.array(pd.read_csv(\"samples/10.out\", header = None))"
   ]
  },
  {
   "cell_type": "code",
   "execution_count": 508,
   "metadata": {
    "hidden": true
   },
   "outputs": [],
   "source": [
    "graph, budget = read_input_file(\"samples/10.in\")"
   ]
  },
  {
   "cell_type": "code",
   "execution_count": 509,
   "metadata": {
    "hidden": true
   },
   "outputs": [],
   "source": [
    "pos = nx.kamada_kawai_layout(graph)  # positions for all nodes\n",
    "# nx.draw(graph, pos, with_labels=True)"
   ]
  },
  {
   "cell_type": "code",
   "execution_count": 510,
   "metadata": {
    "hidden": true
   },
   "outputs": [],
   "source": [
    "# prob = LpProblem(\"proj\",LpMaximize)"
   ]
  },
  {
   "cell_type": "code",
   "execution_count": 511,
   "metadata": {
    "hidden": true
   },
   "outputs": [],
   "source": [
    "# # edges \n",
    "# # Add diagonal variables such that (1,1) have 0 happiness and sadness\n",
    "# edges = np.array([\"e01\",\"e02\",\"e03\",\"e12\",\"e13\",\"e23\"])\n",
    "# weights = [9.2, 5.4, 2.123, 75.4,18,87]*3\n",
    "# sad = [3,40.8,98,8,57.904,9.4]*3\n",
    "# d = {}\n",
    "# for j in range(3):\n",
    "#     for i in edges:\n",
    "#         d[\"{0}_{1}\".format(i,j)] = LpVariable(\"{0}_{1}\".format(i,j), lowBound = 0, upBound=1, cat=\"Integer\")\n",
    "# edges = list(d.values())\n",
    "# # e11 = LpVariable(\"{0}_{1}\".format(i,j), lowBound = 0, upBound=1, cat=\"Integer\")\n",
    "# # e22 = LpVariable(\"{0}_{1}\".format(i,j), lowBound = 0, upBound=1, cat=\"Integer\")\n",
    "# # e33 = LpVariable(\"{0}_{1}\".format(i,j), lowBound = 0, upBound=1, cat=\"Integer\")"
   ]
  },
  {
   "cell_type": "code",
   "execution_count": 512,
   "metadata": {
    "hidden": true
   },
   "outputs": [],
   "source": [
    "# # vertices \n",
    "# vertices = [\"v0\", \"v1\", \"v2\", \"v3\"]\n",
    "# d = {}\n",
    "# for j in range(3):\n",
    "#     for i in vertices:\n",
    "#         d[\"{0}_{1}\".format(i,j)] = LpVariable(\"{0}_{1}\".format(i,j), lowBound = 0, cat=\"Integer\")\n",
    "# vertices = list(d.values())\n",
    "# vertices"
   ]
  },
  {
   "cell_type": "code",
   "execution_count": 513,
   "metadata": {
    "hidden": true
   },
   "outputs": [],
   "source": [
    "# prob += sum(edges[i] * weights[i] for i in range(len(weights)))"
   ]
  },
  {
   "cell_type": "code",
   "execution_count": 514,
   "metadata": {
    "hidden": true
   },
   "outputs": [],
   "source": [
    "# prob += sum(edges[i] for i in [0,6,12]) == 1\n",
    "# prob += sum(edges[i] for i in [1,7,13]) == 1\n",
    "# prob += sum(edges[i] for i in [2,8,14]) == 1\n",
    "# prob += sum(edges[i] for i in [3,9,15]) == 1\n",
    "# prob += sum(edges[i] for i in [4,10,16]) == 1\n",
    "# prob += sum(edges[i] for i in [5,11,17]) == 1"
   ]
  },
  {
   "cell_type": "code",
   "execution_count": 515,
   "metadata": {
    "hidden": true
   },
   "outputs": [],
   "source": [
    "# prob += sum(edges[i] * sad[i] for i in range(6)) <= 42.314/3\n",
    "# prob += sum(edges[i] * sad[i] for i in range(6,12)) <= 42.314/3\n",
    "# prob += sum(edges[i] * sad[i] for i in range(12,18)) <= 42.314/3\n",
    "\n",
    "# prob += sum(vertices[i] for i in [0,4,8]) == 1 \n",
    "# prob += sum(vertices[i] for i in [1,5,9]) == 1\n",
    "# prob += sum(vertices[i] for i in [2,6,10]) == 1\n",
    "# prob += sum(vertices[i] for i in [3,7,11]) == 1\n",
    "\n",
    "\n",
    "# # Linearization of quadratic variables (eijk =vik * vjk)"
   ]
  },
  {
   "cell_type": "code",
   "execution_count": 516,
   "metadata": {
    "hidden": true
   },
   "outputs": [],
   "source": [
    "# prob"
   ]
  },
  {
   "cell_type": "code",
   "execution_count": 517,
   "metadata": {
    "hidden": true
   },
   "outputs": [],
   "source": [
    "# prob.solve()\n",
    "# for v in prob.variables():\n",
    "#     print(v.name, \"=\", v.varValue)"
   ]
  },
  {
   "cell_type": "markdown",
   "metadata": {
    "heading_collapsed": true
   },
   "source": [
    "# Scale  "
   ]
  },
  {
   "cell_type": "markdown",
   "metadata": {
    "hidden": true
   },
   "source": [
    "Assumptions \n",
    "- Rooms with individuals are usually not optimal and hence are not considered in the model\n",
    "- We have a good heuristic for choosing the number of rooms"
   ]
  },
  {
   "cell_type": "markdown",
   "metadata": {
    "deletable": false,
    "editable": false,
    "hidden": true,
    "run_control": {
     "frozen": true
    }
   },
   "source": [
    "<!-- - Either $e_{i,i} = 1$ or $e_{i,j} = 1, \\ \\ \\ \\exists j$ -->\n",
    "- Pick R arbitrarily \n",
    "    - Work on heuristics later\n",
    "<!-- - Add $e_{i,i} \\forall \\ \\ i$ -->\n",
    "- Create k * (n choose 2) variables representing each pair and its class i.e,  e_i,j,k  for $k \\in \\{2, n-1\\}$\n",
    "- Objective $max\\{\\sum e_{i,j,k}*h_{i,j}\\}$ \n",
    "\n",
    "- Constraints\n",
    "    - $\\sum_{k = 1}^{K} e_{i,j,k} = 1  \\ \\ \\ \\ \\forall (i,j)$\n",
    "    - If $(i,j) = 1 \\And \\ (i,h) = 1 \\implies (j,h) = 1$\n",
    "         - In LP notation: \n",
    "    - $\\sum_{(i,j)} s_{i,j}e_{i,j,k} \\leq \\frac{S_{max}}{K} \\ \\ \\ \\forall k \\in K$ "
   ]
  },
  {
   "cell_type": "markdown",
   "metadata": {
    "hidden": true
   },
   "source": [
    "- Parse the inputs into H and S arrays representing happiness and sadness \n",
    "- Get K number of rooms (improve later)\n",
    "- Define edges and vertices as LpVariables \n",
    "    - Make them into two arrays, one sorted based on ids and another based on rooms (4 arrays in total)\n",
    "- Define constraints "
   ]
  },
  {
   "cell_type": "code",
   "execution_count": 518,
   "metadata": {
    "hidden": true
   },
   "outputs": [],
   "source": [
    "n = int(list(sample_input[0])[0])\n",
    "s_max = int(list(sample_input[0])[1])\n",
    "K = 3"
   ]
  },
  {
   "cell_type": "code",
   "execution_count": 519,
   "metadata": {
    "hidden": true
   },
   "outputs": [],
   "source": [
    "# Parsing input data \n",
    "df = sample_input\n",
    "df = pd.DataFrame([x.split() for x in df[0].tolist() ])\n",
    "df = df.loc[2:,:]\n",
    "df[\"i\"] = df.loc[:,0]\n",
    "df[\"j\"] = df.loc[:,1]\n",
    "df[\"sadness\"] = df.loc[:,3]\n",
    "df[\"happiness\"] = df.loc[:,2]\n",
    "df = df[[\"i\", \"j\", \"sadness\", \"happiness\"]]"
   ]
  },
  {
   "cell_type": "code",
   "execution_count": 520,
   "metadata": {
    "hidden": true
   },
   "outputs": [
    {
     "data": {
      "text/plain": [
       "True"
      ]
     },
     "execution_count": 520,
     "metadata": {},
     "output_type": "execute_result"
    }
   ],
   "source": [
    "i_id = [int(i) for i in list(df[\"i\"])]\n",
    "j_id = [int(i) for i in list(df[\"j\"])]\n",
    "sadness = [float(i) for i in list(df[\"sadness\"])]*K\n",
    "happiness = [float(i) for i in list(df[\"happiness\"])]*K\n",
    "\n",
    "sadness_1 = [float(i) for i in list(df[\"sadness\"])]\n",
    "happiness_1 = [float(i) for i in list(df[\"happiness\"])]\n",
    "len(sadness) == len(happiness)"
   ]
  },
  {
   "cell_type": "code",
   "execution_count": 521,
   "metadata": {
    "hidden": true
   },
   "outputs": [],
   "source": [
    "prob = LpProblem(\"solver\",LpMaximize)"
   ]
  },
  {
   "cell_type": "code",
   "execution_count": 522,
   "metadata": {
    "hidden": true
   },
   "outputs": [
    {
     "data": {
      "text/plain": [
       "True"
      ]
     },
     "execution_count": 522,
     "metadata": {},
     "output_type": "execute_result"
    }
   ],
   "source": [
    "# edges \n",
    "d_e = {}\n",
    "for k in range(K):\n",
    "    for i in range(comb(n,2)):\n",
    "        d_e[\"e_{0}_{1}_{2}\".format(i_id[i],j_id[i],k)] = LpVariable(\"e_{0}_{1}_{2}\".format(i_id[i],j_id[i],k), cat=\"Binary\")\n",
    "edges_1 = list(d_e.values())\n",
    "\n",
    "\n",
    "# Create another edge array with different sort\n",
    "edges_2 = [d_e.get(i) for i in sorted(d_e.keys(), key=lambda x: (x[2], x[4]))]\n",
    "\n",
    "# Create another edge array for constraint 4 \n",
    "edges_3 = [d_e.get(i) for i in sorted(d_e.keys(), key=lambda x: (x[2], x[6]))]\n",
    "\n",
    "# Check\n",
    "len(edges_1) == comb(n,2)*K"
   ]
  },
  {
   "cell_type": "code",
   "execution_count": 523,
   "metadata": {
    "hidden": true
   },
   "outputs": [
    {
     "data": {
      "text/plain": [
       "True"
      ]
     },
     "execution_count": 523,
     "metadata": {},
     "output_type": "execute_result"
    }
   ],
   "source": [
    "# vertices \n",
    "d_v = {}\n",
    "for j in range(K):\n",
    "    for i in range(n):\n",
    "        d_v[\"v_{0}_{1}\".format(i,j)] = LpVariable(\"v_{0}_{1}\".format(i,j), cat=\"Binary\")\n",
    "vertices_1 = list(d_v.values())\n",
    "\n",
    "# Create another edge array with different sort\n",
    "vertices_2 = [d_v.get(i) for i in sorted(d_v.keys(), key=lambda x: x[2])]\n",
    "\n",
    "# Check\n",
    "len(vertices_1) == n*K"
   ]
  },
  {
   "cell_type": "code",
   "execution_count": null,
   "metadata": {
    "hidden": true
   },
   "outputs": [],
   "source": []
  },
  {
   "cell_type": "code",
   "execution_count": 524,
   "metadata": {
    "hidden": true
   },
   "outputs": [
    {
     "name": "stdout",
     "output_type": "stream",
     "text": [
      "True\n"
     ]
    }
   ],
   "source": [
    "# Linearization of quadratic variables 1 \n",
    "v_list = np.array(np.array_split(vertices_1, 3)).tolist()\n",
    "v_big = []\n",
    "for i in range(K):\n",
    "    j = 0\n",
    "    while j != n:\n",
    "        for _ in range(j,9):\n",
    "            v_big.append(v_list[i][j])\n",
    "        j += 1\n",
    "        \n",
    "print(len(edges_1) == len(v_big))"
   ]
  },
  {
   "cell_type": "code",
   "execution_count": 525,
   "metadata": {
    "hidden": true
   },
   "outputs": [
    {
     "name": "stdout",
     "output_type": "stream",
     "text": [
      "True\n"
     ]
    }
   ],
   "source": [
    "# Linearization of quadratic variables 2\n",
    "v_list_2 = [i[1:] for i in v_list]\n",
    "v_big_2 = []\n",
    "for h in range(K):\n",
    "    j = 0\n",
    "    while j != n:\n",
    "        for i in range(j,n-1):\n",
    "            v_big_2.append(v_list_2[h][i])\n",
    "        j += 1\n",
    "        i = j\n",
    "print(len(edges_1) == len(v_big_2))"
   ]
  },
  {
   "cell_type": "markdown",
   "metadata": {
    "heading_collapsed": true,
    "hidden": true
   },
   "source": [
    "## Naive Solver "
   ]
  },
  {
   "cell_type": "code",
   "execution_count": 526,
   "metadata": {
    "hidden": true
   },
   "outputs": [],
   "source": [
    "# Objective function \n",
    "prob += sum(edges_1[i] * happiness[i] for i in range(len(happiness)))"
   ]
  },
  {
   "cell_type": "code",
   "execution_count": 527,
   "metadata": {
    "hidden": true
   },
   "outputs": [],
   "source": [
    "# # Not sure if we need this constraint now \n",
    "# # Constraint 1 \n",
    "# constraint_2 = [sum(edges_1[i:i + K]) for i in range(0, len(edges_1), K)]\n",
    "# for i in range(len(constraint_3)):\n",
    "#     prob += constraint_2[i] == 1"
   ]
  },
  {
   "cell_type": "code",
   "execution_count": 528,
   "metadata": {
    "hidden": true
   },
   "outputs": [],
   "source": [
    "# Constraint 2\n",
    "# Each rooms has sadness levels <= s_max / K \n",
    "aa = []\n",
    "h = 0\n",
    "for i in range(K):\n",
    "    for j in range(comb(n,2)):\n",
    "        aa.append(edges_1[h] * sadness_1[j])\n",
    "        h += 1\n",
    "\n",
    "constraint_2 = [sum(aa[i:i+ comb(n,2)]) for i in range(0, len(aa), comb(n,2))]\n",
    "for i in range(len(constraint_2)):\n",
    "    prob += constraint_2[i] <= s_max / K"
   ]
  },
  {
   "cell_type": "code",
   "execution_count": null,
   "metadata": {
    "hidden": true
   },
   "outputs": [],
   "source": []
  },
  {
   "cell_type": "code",
   "execution_count": 529,
   "metadata": {
    "hidden": true,
    "scrolled": true
   },
   "outputs": [],
   "source": [
    "# Constraint 3\n",
    "# Each person belongs to only one room\n",
    "constraint_3 = [sum(vertices_2[i:i + K]) for i in range(0, len(vertices_2), K)]\n",
    "for i in range(len(constraint_3)):\n",
    "    prob += constraint_3[i] == 1"
   ]
  },
  {
   "cell_type": "code",
   "execution_count": 530,
   "metadata": {
    "hidden": true
   },
   "outputs": [],
   "source": [
    "# Linearization of quadratic variables\n",
    "# Constraint 4.1\n",
    "\n",
    "for i in range(len(edges_1)):\n",
    "    prob += edges_1[i] <= v_big[i]\n",
    "    \n",
    "# Constraint 4.2\n",
    "for i in range(len(edges_1)):\n",
    "    prob += edges_1[i] <= v_big_2[i]\n",
    "\n",
    "\n",
    "# Constraint 4.3\n",
    "for i in range(len(edges_1)):\n",
    "    prob += edges_1[i] >= v_big[i] + v_big_2[i] - 1 \n",
    "    \n",
    "# # Constraint 4'\n",
    "# for i in range(len(edges_1)):\n",
    "#     prob += edges_1[i] == v_big[i] * v_big_2[i]"
   ]
  },
  {
   "cell_type": "code",
   "execution_count": 531,
   "metadata": {
    "hidden": true
   },
   "outputs": [],
   "source": [
    "path = \"/Users/smeetpatel/Library/gurobi.lic\"\n",
    "solver = GUROBI_CMD(path)"
   ]
  },
  {
   "cell_type": "code",
   "execution_count": null,
   "metadata": {
    "hidden": true,
    "scrolled": true
   },
   "outputs": [],
   "source": []
  },
  {
   "cell_type": "code",
   "execution_count": 532,
   "metadata": {
    "hidden": true,
    "jupyter": {
     "outputs_hidden": true
    }
   },
   "outputs": [
    {
     "name": "stdout",
     "output_type": "stream",
     "text": [
      "e_0_1_0 = 0.0\n",
      "e_0_1_1 = 0.0\n",
      "e_0_1_2 = 0.0\n",
      "e_0_2_0 = 0.0\n",
      "e_0_2_1 = 1.0\n",
      "e_0_2_2 = 0.0\n",
      "e_0_3_0 = 0.0\n",
      "e_0_3_1 = 0.0\n",
      "e_0_3_2 = 0.0\n",
      "e_0_4_0 = 0.0\n",
      "e_0_4_1 = 0.0\n",
      "e_0_4_2 = 0.0\n",
      "e_0_5_0 = 0.0\n",
      "e_0_5_1 = 1.0\n",
      "e_0_5_2 = 0.0\n",
      "e_0_6_0 = 0.0\n",
      "e_0_6_1 = 0.0\n",
      "e_0_6_2 = 0.0\n",
      "e_0_7_0 = 0.0\n",
      "e_0_7_1 = 0.0\n",
      "e_0_7_2 = 0.0\n",
      "e_0_8_0 = 0.0\n",
      "e_0_8_1 = 0.0\n",
      "e_0_8_2 = 0.0\n",
      "e_0_9_0 = 0.0\n",
      "e_0_9_1 = 0.0\n",
      "e_0_9_2 = 0.0\n",
      "e_1_2_0 = 0.0\n",
      "e_1_2_1 = 0.0\n",
      "e_1_2_2 = 0.0\n",
      "e_1_3_0 = 0.0\n",
      "e_1_3_1 = 0.0\n",
      "e_1_3_2 = 0.0\n",
      "e_1_4_0 = 0.0\n",
      "e_1_4_1 = 0.0\n",
      "e_1_4_2 = 0.0\n",
      "e_1_5_0 = 0.0\n",
      "e_1_5_1 = 0.0\n",
      "e_1_5_2 = 0.0\n",
      "e_1_6_0 = 0.0\n",
      "e_1_6_1 = 0.0\n",
      "e_1_6_2 = 0.0\n",
      "e_1_7_0 = 0.0\n",
      "e_1_7_1 = 0.0\n",
      "e_1_7_2 = 1.0\n",
      "e_1_8_0 = 0.0\n",
      "e_1_8_1 = 0.0\n",
      "e_1_8_2 = 0.0\n",
      "e_1_9_0 = 0.0\n",
      "e_1_9_1 = 0.0\n",
      "e_1_9_2 = 1.0\n",
      "e_2_3_0 = 0.0\n",
      "e_2_3_1 = 0.0\n",
      "e_2_3_2 = 0.0\n",
      "e_2_4_0 = 0.0\n",
      "e_2_4_1 = 0.0\n",
      "e_2_4_2 = 0.0\n",
      "e_2_5_0 = 0.0\n",
      "e_2_5_1 = 1.0\n",
      "e_2_5_2 = 0.0\n",
      "e_2_6_0 = 0.0\n",
      "e_2_6_1 = 0.0\n",
      "e_2_6_2 = 0.0\n",
      "e_2_7_0 = 0.0\n",
      "e_2_7_1 = 0.0\n",
      "e_2_7_2 = 0.0\n",
      "e_2_8_0 = 0.0\n",
      "e_2_8_1 = 0.0\n",
      "e_2_8_2 = 0.0\n",
      "e_2_9_0 = 0.0\n",
      "e_2_9_1 = 0.0\n",
      "e_2_9_2 = 0.0\n",
      "e_3_4_0 = 1.0\n",
      "e_3_4_1 = 0.0\n",
      "e_3_4_2 = 0.0\n",
      "e_3_5_0 = 0.0\n",
      "e_3_5_1 = 0.0\n",
      "e_3_5_2 = 0.0\n",
      "e_3_6_0 = 1.0\n",
      "e_3_6_1 = 0.0\n",
      "e_3_6_2 = 0.0\n",
      "e_3_7_0 = 0.0\n",
      "e_3_7_1 = 0.0\n",
      "e_3_7_2 = 0.0\n",
      "e_3_8_0 = 1.0\n",
      "e_3_8_1 = 0.0\n",
      "e_3_8_2 = 0.0\n",
      "e_3_9_0 = 0.0\n",
      "e_3_9_1 = 0.0\n",
      "e_3_9_2 = 0.0\n",
      "e_4_5_0 = 0.0\n",
      "e_4_5_1 = 0.0\n",
      "e_4_5_2 = 0.0\n",
      "e_4_6_0 = 1.0\n",
      "e_4_6_1 = 0.0\n",
      "e_4_6_2 = 0.0\n",
      "e_4_7_0 = 0.0\n",
      "e_4_7_1 = 0.0\n",
      "e_4_7_2 = 0.0\n",
      "e_4_8_0 = 1.0\n",
      "e_4_8_1 = 0.0\n",
      "e_4_8_2 = 0.0\n",
      "e_4_9_0 = 0.0\n",
      "e_4_9_1 = 0.0\n",
      "e_4_9_2 = 0.0\n",
      "e_5_6_0 = 0.0\n",
      "e_5_6_1 = 0.0\n",
      "e_5_6_2 = 0.0\n",
      "e_5_7_0 = 0.0\n",
      "e_5_7_1 = 0.0\n",
      "e_5_7_2 = 0.0\n",
      "e_5_8_0 = 0.0\n",
      "e_5_8_1 = 0.0\n",
      "e_5_8_2 = 0.0\n",
      "e_5_9_0 = 0.0\n",
      "e_5_9_1 = 0.0\n",
      "e_5_9_2 = 0.0\n",
      "e_6_7_0 = 0.0\n",
      "e_6_7_1 = 0.0\n",
      "e_6_7_2 = 0.0\n",
      "e_6_8_0 = 1.0\n",
      "e_6_8_1 = 0.0\n",
      "e_6_8_2 = 0.0\n",
      "e_6_9_0 = 0.0\n",
      "e_6_9_1 = 0.0\n",
      "e_6_9_2 = 0.0\n",
      "e_7_8_0 = 0.0\n",
      "e_7_8_1 = 0.0\n",
      "e_7_8_2 = 0.0\n",
      "e_7_9_0 = 0.0\n",
      "e_7_9_1 = 0.0\n",
      "e_7_9_2 = 1.0\n",
      "e_8_9_0 = 0.0\n",
      "e_8_9_1 = 0.0\n",
      "e_8_9_2 = 0.0\n",
      "v_0_0 = 0.0\n",
      "v_0_1 = 1.0\n",
      "v_0_2 = 0.0\n",
      "v_1_0 = 0.0\n",
      "v_1_1 = 0.0\n",
      "v_1_2 = 1.0\n",
      "v_2_0 = 0.0\n",
      "v_2_1 = 1.0\n",
      "v_2_2 = 0.0\n",
      "v_3_0 = 1.0\n",
      "v_3_1 = 0.0\n",
      "v_3_2 = 0.0\n",
      "v_4_0 = 1.0\n",
      "v_4_1 = 0.0\n",
      "v_4_2 = 0.0\n",
      "v_5_0 = 0.0\n",
      "v_5_1 = 1.0\n",
      "v_5_2 = 0.0\n",
      "v_6_0 = 1.0\n",
      "v_6_1 = 0.0\n",
      "v_6_2 = 0.0\n",
      "v_7_0 = 0.0\n",
      "v_7_1 = 0.0\n",
      "v_7_2 = 1.0\n",
      "v_8_0 = 1.0\n",
      "v_8_1 = 0.0\n",
      "v_8_2 = 0.0\n",
      "v_9_0 = 0.0\n",
      "v_9_1 = 0.0\n",
      "v_9_2 = 1.0\n"
     ]
    }
   ],
   "source": [
    "prob.solve(solver)\n",
    "for v in prob.variables():\n",
    "    print(v.name, \"=\", v.varValue)"
   ]
  },
  {
   "cell_type": "markdown",
   "metadata": {},
   "source": [
    "# Gurobi Infra "
   ]
  },
  {
   "cell_type": "code",
   "execution_count": 605,
   "metadata": {},
   "outputs": [],
   "source": [
    "sample_input = pd.read_csv(\"textgen/test10.txt\", header = None)\n",
    "n = int(list(sample_input[0])[0])\n",
    "s_max = float(list(sample_input[0])[1])\n",
    "K = 4"
   ]
  },
  {
   "cell_type": "code",
   "execution_count": 606,
   "metadata": {},
   "outputs": [],
   "source": [
    "# Parsing input data \n",
    "df = sample_input\n",
    "df = pd.DataFrame([x.split() for x in df[0].tolist() ])\n",
    "df = df.loc[2:,:]\n",
    "df[\"i\"] = df.loc[:,0]\n",
    "df[\"j\"] = df.loc[:,1]\n",
    "df[\"sadness\"] = df.loc[:,3]\n",
    "df[\"happiness\"] = df.loc[:,2]\n",
    "df = df[[\"i\", \"j\", \"sadness\", \"happiness\"]]"
   ]
  },
  {
   "cell_type": "code",
   "execution_count": 607,
   "metadata": {},
   "outputs": [
    {
     "data": {
      "text/plain": [
       "True"
      ]
     },
     "execution_count": 607,
     "metadata": {},
     "output_type": "execute_result"
    }
   ],
   "source": [
    "i_id = [int(i) for i in list(df[\"i\"])]\n",
    "j_id = [int(i) for i in list(df[\"j\"])]\n",
    "sadness = [float(i) for i in list(df[\"sadness\"])]*K\n",
    "happiness = [float(i) for i in list(df[\"happiness\"])]*K\n",
    "\n",
    "sadness_1 = [float(i) for i in list(df[\"sadness\"])]\n",
    "happiness_1 = [float(i) for i in list(df[\"happiness\"])]\n",
    "len(sadness) == len(happiness)"
   ]
  },
  {
   "cell_type": "code",
   "execution_count": 608,
   "metadata": {},
   "outputs": [],
   "source": [
    "m = gp.Model(\"proj\")"
   ]
  },
  {
   "cell_type": "code",
   "execution_count": 609,
   "metadata": {},
   "outputs": [],
   "source": [
    "d_e = {}\n",
    "for k in range(K):\n",
    "    for i in range(comb(n,2)):\n",
    "        d_e[\"e_{0}_{1}_{2}\".format(i_id[i],j_id[i],k)] = m.addVar(name= \"e_{0}_{1}_{2}\".format(i_id[i],j_id[i],k), vtype = GRB.BINARY)\n",
    "edges_1 = list(d_e.values())"
   ]
  },
  {
   "cell_type": "code",
   "execution_count": 610,
   "metadata": {},
   "outputs": [
    {
     "data": {
      "text/plain": [
       "True"
      ]
     },
     "execution_count": 610,
     "metadata": {},
     "output_type": "execute_result"
    }
   ],
   "source": [
    "# Create another edge array with different sort\n",
    "edges_2 = [d_e.get(i) for i in sorted(d_e.keys(), key=lambda x: (x[2], x[4]))]\n",
    "\n",
    "# Create another edge array for constraint 4 \n",
    "edges_3 = [d_e.get(i) for i in sorted(d_e.keys(), key=lambda x: (x[2], x[6]))]\n",
    "\n",
    "# Check\n",
    "len(edges_1) == comb(n,2)*K"
   ]
  },
  {
   "cell_type": "code",
   "execution_count": 611,
   "metadata": {},
   "outputs": [
    {
     "data": {
      "text/plain": [
       "True"
      ]
     },
     "execution_count": 611,
     "metadata": {},
     "output_type": "execute_result"
    }
   ],
   "source": [
    "# vertices \n",
    "d_v = {}\n",
    "for j in range(K):\n",
    "    for i in range(n):\n",
    "        d_v[\"v_{0}_{1}\".format(i,j)] = m.addVar(name = \"v_{0}_{1}\".format(i,j),  vtype = GRB.BINARY)\n",
    "vertices_1 = list(d_v.values())\n",
    "\n",
    "# Create another edge array with different sort\n",
    "vertices_2 = [d_v.get(i) for i in sorted(d_v.keys(), key=lambda x: x[2])]\n",
    "\n",
    "# Check\n",
    "len(vertices_1) == n*K"
   ]
  },
  {
   "cell_type": "code",
   "execution_count": 612,
   "metadata": {},
   "outputs": [
    {
     "name": "stdout",
     "output_type": "stream",
     "text": [
      "True\n"
     ]
    }
   ],
   "source": [
    "# Linearization of quadratic variables 1 \n",
    "v_list = np.array(np.array_split(vertices_1, K)).tolist()\n",
    "v_big = []\n",
    "for i in range(K):\n",
    "    j = 0\n",
    "    while j != n:\n",
    "        for _ in range(j,n-1):\n",
    "            v_big.append(v_list[i][j])\n",
    "        j += 1\n",
    "        \n",
    "print(len(edges_1) == len(v_big))"
   ]
  },
  {
   "cell_type": "code",
   "execution_count": 613,
   "metadata": {},
   "outputs": [
    {
     "name": "stdout",
     "output_type": "stream",
     "text": [
      "True\n"
     ]
    }
   ],
   "source": [
    "# Linearization of quadratic variables 2\n",
    "v_list_2 = [i[1:] for i in v_list]\n",
    "v_big_2 = []\n",
    "for h in range(K):\n",
    "    j = 0\n",
    "    while j != n:\n",
    "        for i in range(j,n-1):\n",
    "            v_big_2.append(v_list_2[h][i])\n",
    "        j += 1\n",
    "        i = j\n",
    "print(len(edges_1) == len(v_big_2))"
   ]
  },
  {
   "cell_type": "code",
   "execution_count": 614,
   "metadata": {},
   "outputs": [],
   "source": [
    "m.setObjective(sum(edges_1[i] * happiness[i] for i in range(len(happiness))), GRB.MAXIMIZE)"
   ]
  },
  {
   "cell_type": "code",
   "execution_count": 615,
   "metadata": {},
   "outputs": [],
   "source": [
    "# # Not sure if we need this constraint now \n",
    "# # Constraint 1 \n",
    "# constraint_2 = [sum(edges_1[i:i + K]) for i in range(0, len(edges_1), K)]\n",
    "# for i in range(len(constraint_3)):\n",
    "#     m.addConstr(constraint_2[i] == 1)"
   ]
  },
  {
   "cell_type": "code",
   "execution_count": 616,
   "metadata": {},
   "outputs": [],
   "source": [
    "aa = []\n",
    "h = 0\n",
    "for i in range(K):\n",
    "    for j in range(comb(n,2)):\n",
    "        aa.append(edges_1[h] * sadness_1[j])\n",
    "        h += 1\n",
    "\n",
    "constraint_2 = [sum(aa[i:i+ comb(n,2)]) for i in range(0, len(aa), comb(n,2))]\n",
    "for i in range(len(constraint_2)):\n",
    "    m.addConstr(constraint_2[i] <=  s_max / K)"
   ]
  },
  {
   "cell_type": "code",
   "execution_count": 617,
   "metadata": {},
   "outputs": [],
   "source": [
    "constraint_3 = [sum(vertices_2[i:i + K]) for i in range(0, len(vertices_2), K)]\n",
    "for i in range(len(constraint_3)):\n",
    "    m.addConstr(constraint_3[i] == 1)"
   ]
  },
  {
   "cell_type": "code",
   "execution_count": 618,
   "metadata": {},
   "outputs": [],
   "source": [
    "# for i in range(len(edges_1)):\n",
    "#      m.addConstr(edges_1[i] <= v_big[i])\n",
    "    \n",
    "# # Constraint 4.2\n",
    "# for i in range(len(edges_1)):\n",
    "#      m.addConstr(edges_1[i] <= v_big_2[i])\n",
    "\n",
    "\n",
    "# # Constraint 4.3\n",
    "# for i in range(len(edges_1)):\n",
    "#     m.addConstr(edges_1[i] >= v_big[i] + v_big_2[i] - 1)\n",
    "\n",
    "# Constraint 4'\n",
    "for i in range(len(edges_1)):\n",
    "    m.addConstr(edges_1[i] == v_big[i] * v_big_2[i])"
   ]
  },
  {
   "cell_type": "code",
   "execution_count": 619,
   "metadata": {
    "collapsed": true
   },
   "outputs": [
    {
     "name": "stdout",
     "output_type": "stream",
     "text": [
      "Gurobi Optimizer version 9.1.0 build v9.1.0rc0 (mac64)\n",
      "Thread count: 2 physical cores, 4 logical processors, using up to 4 threads\n",
      "Optimize a model with 14 rows, 220 columns and 220 nonzeros\n",
      "Model fingerprint: 0xfdebe296\n",
      "Model has 180 quadratic constraints\n",
      "Variable types: 0 continuous, 220 integer (220 binary)\n",
      "Coefficient statistics:\n",
      "  Matrix range     [2e-01, 1e+01]\n",
      "  QMatrix range    [1e+00, 1e+00]\n",
      "  QLMatrix range   [1e+00, 1e+00]\n",
      "  Objective range  [8e-02, 1e+01]\n",
      "  Bounds range     [1e+00, 1e+00]\n",
      "  RHS range        [1e+00, 2e+01]\n",
      "Presolve time: 0.00s\n",
      "Presolved: 734 rows, 400 columns, 1840 nonzeros\n",
      "Variable types: 0 continuous, 400 integer (400 binary)\n",
      "Found heuristic solution: objective 39.0690000\n",
      "\n",
      "Root relaxation: objective -1.646803e+02, 295 iterations, 0.01 seconds\n",
      "\n",
      "    Nodes    |    Current Node    |     Objective Bounds      |     Work\n",
      " Expl Unexpl |  Obj  Depth IntInf | Incumbent    BestBd   Gap | It/Node Time\n",
      "\n",
      "     0     0  164.68026    0  148   39.06900  164.68026   322%     -    0s\n",
      "H    0     0                      49.3700000  164.68026   234%     -    0s\n",
      "H    0     0                      56.2990000  164.68026   193%     -    0s\n",
      "H    0     0                      56.9370000  164.68026   189%     -    0s\n",
      "     0     0  141.82550    0  155   56.93700  141.82550   149%     -    0s\n",
      "H    0     0                      58.5850000  141.82550   142%     -    0s\n",
      "H    0     0                      58.9660000  141.82550   141%     -    0s\n",
      "     0     0  135.47560    0  141   58.96600  135.47560   130%     -    0s\n",
      "     0     0  135.33998    0  140   58.96600  135.33998   130%     -    0s\n",
      "     0     0  128.50615    0  145   58.96600  128.50615   118%     -    0s\n",
      "H    0     0                      73.0890000  128.50615  75.8%     -    0s\n",
      "     0     0  128.35406    0  146   73.08900  128.35406  75.6%     -    0s\n",
      "     0     0  126.85300    0  142   73.08900  126.85300  73.6%     -    0s\n",
      "     0     0  126.85300    0  142   73.08900  126.85300  73.6%     -    0s\n",
      "     0     0  126.85300    0  124   73.08900  126.85300  73.6%     -    0s\n",
      "     0     0  125.92847    0  139   73.08900  125.92847  72.3%     -    0s\n",
      "H    0     0                      75.7610000  125.92847  66.2%     -    0s\n",
      "     0     0  123.95356    0  141   75.76100  123.95356  63.6%     -    0s\n",
      "     0     0  123.93940    0  143   75.76100  123.93940  63.6%     -    0s\n",
      "     0     0  122.07991    0  139   75.76100  122.07991  61.1%     -    0s\n",
      "     0     0  122.07991    0  139   75.76100  122.07991  61.1%     -    0s\n",
      "     0     2  122.07991    0  139   75.76100  122.07991  61.1%     -    0s\n",
      "H   45    26                      76.8360000  103.94350  35.3%  46.6    0s\n",
      "*   60    25               5      76.8410000  100.09812  30.3%  42.1    0s\n",
      "H  224    28                      81.3450000   91.59775  12.6%  24.4    0s\n",
      "\n",
      "Cutting planes:\n",
      "  Gomory: 4\n",
      "  Zero half: 14\n",
      "  RLT: 80\n",
      "  BQP: 24\n",
      "\n",
      "Explored 272 nodes (7822 simplex iterations) in 0.78 seconds\n",
      "Thread count was 4 (of 4 available processors)\n",
      "\n",
      "Solution count 10: 81.345 76.841 76.836 ... 49.37\n",
      "\n",
      "Optimal solution found (tolerance 1.00e-04)\n",
      "Best objective 8.134500000000e+01, best bound 8.134500000000e+01, gap 0.0000%\n"
     ]
    }
   ],
   "source": [
    "m.optimize()"
   ]
  },
  {
   "cell_type": "code",
   "execution_count": 620,
   "metadata": {
    "scrolled": true
   },
   "outputs": [],
   "source": [
    "pairs = m.getVars()[0 : len(m.getVars()) - n*k - n]\n",
    "people_values = [v.X for v in pairs]"
   ]
  },
  {
   "cell_type": "code",
   "execution_count": 621,
   "metadata": {
    "scrolled": true
   },
   "outputs": [
    {
     "data": {
      "text/plain": [
       "81.345"
      ]
     },
     "execution_count": 621,
     "metadata": {},
     "output_type": "execute_result"
    }
   ],
   "source": [
    "np.sum(np.multiply(people_values, happiness))"
   ]
  },
  {
   "cell_type": "markdown",
   "metadata": {},
   "source": [
    "# Solver "
   ]
  },
  {
   "cell_type": "code",
   "execution_count": null,
   "metadata": {},
   "outputs": [],
   "source": []
  },
  {
   "cell_type": "code",
   "execution_count": 12,
   "metadata": {},
   "outputs": [],
   "source": [
    "def gurobi_solver(path, K):\n",
    "    '''\n",
    "    Get the input file and parse it to get number of students and max stress across all rooms. \n",
    "    '''\n",
    "    inputs = pd.read_csv(path, header = None)\n",
    "    n = int(list(inputs[0])[0])\n",
    "    s_max = float(list(inputs[0])[1]) \n",
    "    df = pd.DataFrame([x.split() for x in inputs[0].tolist()])\n",
    "    df = df.loc[2:,:]\n",
    "    df[\"i\"] = df.loc[:,0]\n",
    "    df[\"j\"] = df.loc[:,1]\n",
    "    df[\"sadness\"] = df.loc[:,3]\n",
    "    df[\"happiness\"] = df.loc[:,2]\n",
    "    df = df[[\"i\", \"j\", \"sadness\", \"happiness\"]]\n",
    "    \n",
    "    i_id = [int(i) for i in list(df[\"i\"])]\n",
    "    j_id = [int(i) for i in list(df[\"j\"])]\n",
    "    sadness = [float(i) for i in list(df[\"sadness\"])]*K\n",
    "    happiness = [float(i) for i in list(df[\"happiness\"])]*K\n",
    "    sadness_1 = [float(i) for i in list(df[\"sadness\"])]\n",
    "    happiness_1 = [float(i) for i in list(df[\"happiness\"])]\n",
    "\n",
    "    m = gp.Model(\"proj\")\n",
    "    \n",
    "    d_e = {}\n",
    "    for k in range(K):\n",
    "        for i in range(comb(n,2)):\n",
    "            d_e[\"e_{0}_{1}_{2}\".format(i_id[i],j_id[i],k)] = m.addVar(name= \"e_{0}_{1}_{2}\".format(i_id[i],j_id[i],k), vtype = GRB.BINARY)\n",
    "    edges_1 = list(d_e.values())\n",
    "    # Create another edge array with different sort\n",
    "    edges_2 = [d_e.get(i) for i in sorted(d_e.keys(), key=lambda x: (x[2], x[4]))]\n",
    "    # Create another edge array for constraint 4 \n",
    "    edges_3 = [d_e.get(i) for i in sorted(d_e.keys(), key=lambda x: (x[2], x[6]))]\n",
    "    \n",
    "    # vertices \n",
    "    d_v = {}\n",
    "    for j in range(K):\n",
    "        for i in range(n):\n",
    "            d_v[\"v_{0}_{1}\".format(i,j)] = m.addVar(name = \"v_{0}_{1}\".format(i,j),  vtype = GRB.BINARY)\n",
    "    vertices_1 = list(d_v.values())\n",
    "    # Create another edge array with different sort\n",
    "    vertices_2 = [d_v.get(i) for i in sorted(d_v.keys(), key=lambda x: x[2])]\n",
    "    \n",
    "    # Linearization of quadratic variables 1 \n",
    "    v_list = np.array(np.array_split(vertices_1, K)).tolist()\n",
    "    v_big = []\n",
    "    for i in range(K):\n",
    "        j = 0\n",
    "        while j != n:\n",
    "            for _ in range(j,n-1):\n",
    "                v_big.append(v_list[i][j])\n",
    "            j += 1\n",
    "            \n",
    "    # Linearization of quadratic variables 2\n",
    "    v_list_2 = [i[1:] for i in v_list]\n",
    "    v_big_2 = []\n",
    "    for h in range(K):\n",
    "        j = 0\n",
    "        while j != n:\n",
    "            for i in range(j,n-1):\n",
    "                v_big_2.append(v_list_2[h][i])\n",
    "            j += 1\n",
    "            i = j\n",
    "            \n",
    "    # Set objective function \n",
    "    m.setObjective(sum(edges_1[i] * happiness[i] for i in range(len(happiness))), GRB.MAXIMIZE)\n",
    "    \n",
    "    aa = []\n",
    "    h = 0\n",
    "    for i in range(K):\n",
    "        for j in range(comb(n,2)):\n",
    "            aa.append(edges_1[h] * sadness_1[j])\n",
    "            h += 1\n",
    "\n",
    "    constraint_2 = [sum(aa[i:i+ comb(n,2)]) for i in range(0, len(aa), comb(n,2))]\n",
    "    for i in range(len(constraint_2)):\n",
    "        m.addConstr(constraint_2[i] <=  s_max / K)\n",
    "        \n",
    "    constraint_3 = [sum(vertices_2[i:i + K]) for i in range(0, len(vertices_2), K)]\n",
    "    for i in range(len(constraint_3)):\n",
    "        m.addConstr(constraint_3[i] == 1)\n",
    "        \n",
    "    # Constraint 4'\n",
    "    for i in range(len(edges_1)):\n",
    "        m.addConstr(edges_1[i] == v_big[i] * v_big_2[i])\n",
    "        \n",
    "    m.optimize()   \n",
    "    pairs = m.getVars()[0 : len(m.getVars()) - n*k - n]\n",
    "    people_values = [v.X for v in pairs] \n",
    "    h = np.sum(np.multiply(people_values, happiness))\n",
    "    return h"
   ]
  },
  {
   "cell_type": "code",
   "execution_count": 6,
   "metadata": {},
   "outputs": [],
   "source": [
    "def run_model(model):\n",
    "    pairs = m.getVars()[0 : len(m.getVars()) - n*k - n]\n",
    "    people_values = [v.X for v in pairs]\n",
    "    h = np.sum(np.multiply(people_values, happiness))\n",
    "    return h"
   ]
  },
  {
   "cell_type": "code",
   "execution_count": null,
   "metadata": {},
   "outputs": [],
   "source": []
  },
  {
   "cell_type": "code",
   "execution_count": 17,
   "metadata": {},
   "outputs": [
    {
     "name": "stdout",
     "output_type": "stream",
     "text": [
      "Gurobi Optimizer version 9.1.0 build v9.1.0rc0 (mac64)\n",
      "Thread count: 2 physical cores, 4 logical processors, using up to 4 threads\n",
      "Optimize a model with 12 rows, 110 columns and 110 nonzeros\n",
      "Model fingerprint: 0x534856fb\n",
      "Model has 90 quadratic constraints\n",
      "Variable types: 0 continuous, 110 integer (110 binary)\n",
      "Coefficient statistics:\n",
      "  Matrix range     [2e-01, 1e+01]\n",
      "  QMatrix range    [1e+00, 1e+00]\n",
      "  QLMatrix range   [1e+00, 1e+00]\n",
      "  Objective range  [8e-02, 1e+01]\n",
      "  Bounds range     [1e+00, 1e+00]\n",
      "  RHS range        [1e+00, 5e+01]\n",
      "Presolve added 188 rows and 0 columns\n",
      "Presolve removed 0 rows and 10 columns\n",
      "Presolve time: 0.00s\n",
      "Presolved: 296 rows, 124 columns, 768 nonzeros\n",
      "Variable types: 0 continuous, 124 integer (124 binary)\n",
      "Found heuristic solution: objective 94.9930000\n",
      "\n",
      "Root relaxation: objective -1.646803e+02, 87 iterations, 0.00 seconds\n",
      "\n",
      "    Nodes    |    Current Node    |     Objective Bounds      |     Work\n",
      " Expl Unexpl |  Obj  Depth IntInf | Incumbent    BestBd   Gap | It/Node Time\n",
      "\n",
      "     0     0  164.68026    0   64   94.99300  164.68026  73.4%     -    0s\n",
      "     0     0  147.20813    0   66   94.99300  147.20813  55.0%     -    0s\n",
      "H    0     0                     101.4050000  147.20813  45.2%     -    0s\n",
      "     0     0  142.55656    0   63  101.40500  142.55656  40.6%     -    0s\n",
      "H    0     0                     105.6120000  142.55656  35.0%     -    0s\n",
      "     0     0  141.29328    0   70  105.61200  141.29328  33.8%     -    0s\n",
      "     0     0  141.01137    0   62  105.61200  141.01137  33.5%     -    0s\n",
      "     0     0  133.45461    0   92  105.61200  133.45461  26.4%     -    0s\n",
      "H    0     0                     111.2970000  133.45461  19.9%     -    0s\n",
      "     0     0  132.63852    0   96  111.29700  132.63852  19.2%     -    0s\n",
      "     0     0  132.42364    0   94  111.29700  132.42364  19.0%     -    0s\n",
      "     0     0  127.09180    0   84  111.29700  127.09180  14.2%     -    0s\n",
      "     0     0  127.09180    0   84  111.29700  127.09180  14.2%     -    0s\n",
      "     0     2  126.58111    0   84  111.29700  126.58111  13.7%     -    0s\n",
      "\n",
      "Cutting planes:\n",
      "  Zero half: 34\n",
      "  RLT: 93\n",
      "  BQP: 9\n",
      "\n",
      "Explored 78 nodes (2414 simplex iterations) in 0.33 seconds\n",
      "Thread count was 4 (of 4 available processors)\n",
      "\n",
      "Solution count 4: 111.297 105.612 101.405 94.993 \n",
      "\n",
      "Optimal solution found (tolerance 1.00e-04)\n",
      "Best objective 1.112970000000e+02, best bound 1.112970000000e+02, gap 0.0000%\n"
     ]
    },
    {
     "data": {
      "text/plain": [
       "111.29700000000001"
      ]
     },
     "execution_count": 17,
     "metadata": {},
     "output_type": "execute_result"
    }
   ],
   "source": [
    "gurobi_solver(\"textgen/test10.txt\", 2)"
   ]
  },
  {
   "cell_type": "code",
   "execution_count": null,
   "metadata": {},
   "outputs": [],
   "source": []
  }
 ],
 "metadata": {
  "kernelspec": {
   "display_name": "Python 3",
   "language": "python",
   "name": "python3"
  },
  "language_info": {
   "codemirror_mode": {
    "name": "ipython",
    "version": 3
   },
   "file_extension": ".py",
   "mimetype": "text/x-python",
   "name": "python",
   "nbconvert_exporter": "python",
   "pygments_lexer": "ipython3",
   "version": "3.9.0"
  },
  "latex_envs": {
   "LaTeX_envs_menu_present": true,
   "autoclose": true,
   "autocomplete": true,
   "bibliofile": "biblio.bib",
   "cite_by": "apalike",
   "current_citInitial": 1,
   "eqLabelWithNumbers": true,
   "eqNumInitial": 1,
   "hotkeys": {
    "equation": "Ctrl-E",
    "itemize": "Ctrl-I"
   },
   "labels_anchors": false,
   "latex_user_defs": false,
   "report_style_numbering": false,
   "user_envs_cfg": false
  },
  "toc": {
   "base_numbering": 1,
   "nav_menu": {},
   "number_sections": true,
   "sideBar": true,
   "skip_h1_title": false,
   "title_cell": "Table of Contents",
   "title_sidebar": "Contents",
   "toc_cell": false,
   "toc_position": {},
   "toc_section_display": true,
   "toc_window_display": false
  },
  "varInspector": {
   "cols": {
    "lenName": 16,
    "lenType": 16,
    "lenVar": 40
   },
   "kernels_config": {
    "python": {
     "delete_cmd_postfix": "",
     "delete_cmd_prefix": "del ",
     "library": "var_list.py",
     "varRefreshCmd": "print(var_dic_list())"
    },
    "r": {
     "delete_cmd_postfix": ") ",
     "delete_cmd_prefix": "rm(",
     "library": "var_list.r",
     "varRefreshCmd": "cat(var_dic_list()) "
    }
   },
   "types_to_exclude": [
    "module",
    "function",
    "builtin_function_or_method",
    "instance",
    "_Feature"
   ],
   "window_display": false
  }
 },
 "nbformat": 4,
 "nbformat_minor": 4
}
