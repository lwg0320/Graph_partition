{
 "cells": [
  {
   "cell_type": "markdown",
   "metadata": {
    "heading_collapsed": true
   },
   "source": [
    "# Experimentation"
   ]
  },
  {
   "cell_type": "code",
   "execution_count": 1,
   "metadata": {
    "hidden": true
   },
   "outputs": [],
   "source": [
    "%matplotlib inline\n",
    "import matplotlib.pyplot as plt\n",
    "import numpy as np \n",
    "import pandas as pd\n",
    "import networkx as nx\n",
    "from parse import *\n",
    "from utils  import *\n",
    "from pulp import *\n",
    "from math import comb\n",
    "import gurobipy as gp\n",
    "from gurobipy import GRB"
   ]
  },
  {
   "cell_type": "code",
   "execution_count": 2,
   "metadata": {
    "hidden": true
   },
   "outputs": [],
   "source": [
    "sample_input = pd.read_csv(\"samples/10.in\", header = None)\n",
    "sample_output = np.array(pd.read_csv(\"samples/10.out\", header = None))"
   ]
  },
  {
   "cell_type": "code",
   "execution_count": 3,
   "metadata": {
    "hidden": true
   },
   "outputs": [],
   "source": [
    "graph, budget = read_input_file(\"samples/10.in\")"
   ]
  },
  {
   "cell_type": "code",
   "execution_count": 4,
   "metadata": {
    "hidden": true
   },
   "outputs": [],
   "source": [
    "pos = nx.kamada_kawai_layout(graph)  # positions for all nodes\n",
    "# nx.draw(graph, pos, with_labels=True)"
   ]
  },
  {
   "cell_type": "code",
   "execution_count": 5,
   "metadata": {
    "hidden": true
   },
   "outputs": [],
   "source": [
    "# prob = LpProblem(\"proj\",LpMaximize)"
   ]
  },
  {
   "cell_type": "code",
   "execution_count": 6,
   "metadata": {
    "hidden": true
   },
   "outputs": [],
   "source": [
    "# # edges \n",
    "# # Add diagonal variables such that (1,1) have 0 happiness and sadness\n",
    "# edges = np.array([\"e01\",\"e02\",\"e03\",\"e12\",\"e13\",\"e23\"])\n",
    "# weights = [9.2, 5.4, 2.123, 75.4,18,87]*3\n",
    "# sad = [3,40.8,98,8,57.904,9.4]*3\n",
    "# d = {}\n",
    "# for j in range(3):\n",
    "#     for i in edges:\n",
    "#         d[\"{0}_{1}\".format(i,j)] = LpVariable(\"{0}_{1}\".format(i,j), lowBound = 0, upBound=1, cat=\"Integer\")\n",
    "# edges = list(d.values())\n",
    "# # e11 = LpVariable(\"{0}_{1}\".format(i,j), lowBound = 0, upBound=1, cat=\"Integer\")\n",
    "# # e22 = LpVariable(\"{0}_{1}\".format(i,j), lowBound = 0, upBound=1, cat=\"Integer\")\n",
    "# # e33 = LpVariable(\"{0}_{1}\".format(i,j), lowBound = 0, upBound=1, cat=\"Integer\")"
   ]
  },
  {
   "cell_type": "code",
   "execution_count": 7,
   "metadata": {
    "hidden": true
   },
   "outputs": [],
   "source": [
    "# # vertices \n",
    "# vertices = [\"v0\", \"v1\", \"v2\", \"v3\"]\n",
    "# d = {}\n",
    "# for j in range(3):\n",
    "#     for i in vertices:\n",
    "#         d[\"{0}_{1}\".format(i,j)] = LpVariable(\"{0}_{1}\".format(i,j), lowBound = 0, cat=\"Integer\")\n",
    "# vertices = list(d.values())\n",
    "# vertices"
   ]
  },
  {
   "cell_type": "code",
   "execution_count": 8,
   "metadata": {
    "hidden": true
   },
   "outputs": [],
   "source": [
    "# prob += sum(edges[i] * weights[i] for i in range(len(weights)))"
   ]
  },
  {
   "cell_type": "code",
   "execution_count": 9,
   "metadata": {
    "hidden": true
   },
   "outputs": [],
   "source": [
    "# prob += sum(edges[i] for i in [0,6,12]) == 1\n",
    "# prob += sum(edges[i] for i in [1,7,13]) == 1\n",
    "# prob += sum(edges[i] for i in [2,8,14]) == 1\n",
    "# prob += sum(edges[i] for i in [3,9,15]) == 1\n",
    "# prob += sum(edges[i] for i in [4,10,16]) == 1\n",
    "# prob += sum(edges[i] for i in [5,11,17]) == 1"
   ]
  },
  {
   "cell_type": "code",
   "execution_count": 10,
   "metadata": {
    "hidden": true
   },
   "outputs": [],
   "source": [
    "# prob += sum(edges[i] * sad[i] for i in range(6)) <= 42.314/3\n",
    "# prob += sum(edges[i] * sad[i] for i in range(6,12)) <= 42.314/3\n",
    "# prob += sum(edges[i] * sad[i] for i in range(12,18)) <= 42.314/3\n",
    "\n",
    "# prob += sum(vertices[i] for i in [0,4,8]) == 1 \n",
    "# prob += sum(vertices[i] for i in [1,5,9]) == 1\n",
    "# prob += sum(vertices[i] for i in [2,6,10]) == 1\n",
    "# prob += sum(vertices[i] for i in [3,7,11]) == 1\n",
    "\n",
    "\n",
    "# # Linearization of quadratic variables (eijk =vik * vjk)"
   ]
  },
  {
   "cell_type": "code",
   "execution_count": 11,
   "metadata": {
    "hidden": true
   },
   "outputs": [],
   "source": [
    "# prob"
   ]
  },
  {
   "cell_type": "code",
   "execution_count": 12,
   "metadata": {
    "hidden": true
   },
   "outputs": [],
   "source": [
    "# prob.solve()\n",
    "# for v in prob.variables():\n",
    "#     print(v.name, \"=\", v.varValue)"
   ]
  },
  {
   "cell_type": "markdown",
   "metadata": {
    "heading_collapsed": true
   },
   "source": [
    "# Scale  "
   ]
  },
  {
   "cell_type": "markdown",
   "metadata": {
    "hidden": true
   },
   "source": [
    "Assumptions \n",
    "- Rooms with individuals are usually not optimal and hence are not considered in the model\n",
    "- We have a good heuristic for choosing the number of rooms"
   ]
  },
  {
   "cell_type": "markdown",
   "metadata": {
    "deletable": false,
    "editable": false,
    "hidden": true,
    "run_control": {
     "frozen": true
    }
   },
   "source": [
    "<!-- - Either $e_{i,i} = 1$ or $e_{i,j} = 1, \\ \\ \\ \\exists j$ -->\n",
    "- Pick R arbitrarily \n",
    "    - Work on heuristics later\n",
    "<!-- - Add $e_{i,i} \\forall \\ \\ i$ -->\n",
    "- Create k * (n choose 2) variables representing each pair and its class i.e,  e_i,j,k  for $k \\in \\{2, n-1\\}$\n",
    "- Objective $max\\{\\sum e_{i,j,k}*h_{i,j}\\}$ \n",
    "\n",
    "- Constraints\n",
    "    - $\\sum_{k = 1}^{K} e_{i,j,k} = 1  \\ \\ \\ \\ \\forall (i,j)$\n",
    "    - If $(i,j) = 1 \\And \\ (i,h) = 1 \\implies (j,h) = 1$\n",
    "         - In LP notation: \n",
    "    - $\\sum_{(i,j)} s_{i,j}e_{i,j,k} \\leq \\frac{S_{max}}{K} \\ \\ \\ \\forall k \\in K$ "
   ]
  },
  {
   "cell_type": "markdown",
   "metadata": {
    "hidden": true
   },
   "source": [
    "- Parse the inputs into H and S arrays representing happiness and sadness \n",
    "- Get K number of rooms (improve later)\n",
    "- Define edges and vertices as LpVariables \n",
    "    - Make them into two arrays, one sorted based on ids and another based on rooms (4 arrays in total)\n",
    "- Define constraints "
   ]
  },
  {
   "cell_type": "code",
   "execution_count": 13,
   "metadata": {
    "hidden": true
   },
   "outputs": [],
   "source": [
    "n = int(list(sample_input[0])[0])\n",
    "s_max = int(list(sample_input[0])[1])\n",
    "K = 3"
   ]
  },
  {
   "cell_type": "code",
   "execution_count": 14,
   "metadata": {
    "hidden": true
   },
   "outputs": [],
   "source": [
    "# Parsing input data \n",
    "df = sample_input\n",
    "df = pd.DataFrame([x.split() for x in df[0].tolist() ])\n",
    "df = df.loc[2:,:]\n",
    "df[\"i\"] = df.loc[:,0]\n",
    "df[\"j\"] = df.loc[:,1]\n",
    "df[\"sadness\"] = df.loc[:,3]\n",
    "df[\"happiness\"] = df.loc[:,2]\n",
    "df = df[[\"i\", \"j\", \"sadness\", \"happiness\"]]"
   ]
  },
  {
   "cell_type": "code",
   "execution_count": 15,
   "metadata": {
    "hidden": true
   },
   "outputs": [
    {
     "data": {
      "text/plain": [
       "True"
      ]
     },
     "execution_count": 15,
     "metadata": {},
     "output_type": "execute_result"
    }
   ],
   "source": [
    "i_id = [int(i) for i in list(df[\"i\"])]\n",
    "j_id = [int(i) for i in list(df[\"j\"])]\n",
    "sadness = [float(i) for i in list(df[\"sadness\"])]*K\n",
    "happiness = [float(i) for i in list(df[\"happiness\"])]*K\n",
    "\n",
    "sadness_1 = [float(i) for i in list(df[\"sadness\"])]\n",
    "happiness_1 = [float(i) for i in list(df[\"happiness\"])]\n",
    "len(sadness) == len(happiness)"
   ]
  },
  {
   "cell_type": "code",
   "execution_count": 16,
   "metadata": {
    "hidden": true
   },
   "outputs": [],
   "source": [
    "prob = LpProblem(\"solver\",LpMaximize)"
   ]
  },
  {
   "cell_type": "code",
   "execution_count": 17,
   "metadata": {
    "hidden": true
   },
   "outputs": [
    {
     "data": {
      "text/plain": [
       "True"
      ]
     },
     "execution_count": 17,
     "metadata": {},
     "output_type": "execute_result"
    }
   ],
   "source": [
    "# edges \n",
    "d_e = {}\n",
    "for k in range(K):\n",
    "    for i in range(comb(n,2)):\n",
    "        d_e[\"e_{0}_{1}_{2}\".format(i_id[i],j_id[i],k)] = LpVariable(\"e_{0}_{1}_{2}\".format(i_id[i],j_id[i],k), cat=\"Binary\")\n",
    "edges_1 = list(d_e.values())\n",
    "\n",
    "\n",
    "# Create another edge array with different sort\n",
    "edges_2 = [d_e.get(i) for i in sorted(d_e.keys(), key=lambda x: (x[2], x[4]))]\n",
    "\n",
    "# Create another edge array for constraint 4 \n",
    "edges_3 = [d_e.get(i) for i in sorted(d_e.keys(), key=lambda x: (x[2], x[6]))]\n",
    "\n",
    "# Check\n",
    "len(edges_1) == comb(n,2)*K"
   ]
  },
  {
   "cell_type": "code",
   "execution_count": 18,
   "metadata": {
    "hidden": true
   },
   "outputs": [
    {
     "data": {
      "text/plain": [
       "True"
      ]
     },
     "execution_count": 18,
     "metadata": {},
     "output_type": "execute_result"
    }
   ],
   "source": [
    "# vertices \n",
    "d_v = {}\n",
    "for j in range(K):\n",
    "    for i in range(n):\n",
    "        d_v[\"v_{0}_{1}\".format(i,j)] = LpVariable(\"v_{0}_{1}\".format(i,j), cat=\"Binary\")\n",
    "vertices_1 = list(d_v.values())\n",
    "\n",
    "# Create another edge array with different sort\n",
    "vertices_2 = [d_v.get(i) for i in sorted(d_v.keys(), key=lambda x: x[2])]\n",
    "\n",
    "# Check\n",
    "len(vertices_1) == n*K"
   ]
  },
  {
   "cell_type": "code",
   "execution_count": null,
   "metadata": {
    "hidden": true
   },
   "outputs": [],
   "source": []
  },
  {
   "cell_type": "code",
   "execution_count": 19,
   "metadata": {
    "hidden": true
   },
   "outputs": [
    {
     "name": "stdout",
     "output_type": "stream",
     "text": [
      "True\n"
     ]
    }
   ],
   "source": [
    "# Linearization of quadratic variables 1 \n",
    "v_list = np.array(np.array_split(vertices_1, 3)).tolist()\n",
    "v_big = []\n",
    "for i in range(K):\n",
    "    j = 0\n",
    "    while j != n:\n",
    "        for _ in range(j,9):\n",
    "            v_big.append(v_list[i][j])\n",
    "        j += 1\n",
    "        \n",
    "print(len(edges_1) == len(v_big))"
   ]
  },
  {
   "cell_type": "code",
   "execution_count": 20,
   "metadata": {
    "hidden": true
   },
   "outputs": [
    {
     "name": "stdout",
     "output_type": "stream",
     "text": [
      "True\n"
     ]
    }
   ],
   "source": [
    "# Linearization of quadratic variables 2\n",
    "v_list_2 = [i[1:] for i in v_list]\n",
    "v_big_2 = []\n",
    "for h in range(K):\n",
    "    j = 0\n",
    "    while j != n:\n",
    "        for i in range(j,n-1):\n",
    "            v_big_2.append(v_list_2[h][i])\n",
    "        j += 1\n",
    "        i = j\n",
    "print(len(edges_1) == len(v_big_2))"
   ]
  },
  {
   "cell_type": "markdown",
   "metadata": {
    "hidden": true
   },
   "source": [
    "## Solver "
   ]
  },
  {
   "cell_type": "code",
   "execution_count": 21,
   "metadata": {
    "hidden": true
   },
   "outputs": [],
   "source": [
    "# Objective function \n",
    "prob += sum(edges_1[i] * happiness[i] for i in range(len(happiness)))"
   ]
  },
  {
   "cell_type": "code",
   "execution_count": 22,
   "metadata": {
    "hidden": true
   },
   "outputs": [],
   "source": [
    "# # Not sure if we need this constraint now \n",
    "# # Constraint 1 \n",
    "# constraint_2 = [sum(edges_1[i:i + K]) for i in range(0, len(edges_1), K)]\n",
    "# for i in range(len(constraint_3)):\n",
    "#     prob += constraint_2[i] == 1"
   ]
  },
  {
   "cell_type": "code",
   "execution_count": 23,
   "metadata": {
    "hidden": true
   },
   "outputs": [],
   "source": [
    "# Constraint 2\n",
    "# Each rooms has sadness levels <= s_max / K \n",
    "aa = []\n",
    "h = 0\n",
    "for i in range(K):\n",
    "    for j in range(comb(n,2)):\n",
    "        aa.append(edges_1[h] * sadness_1[j])\n",
    "        h += 1\n",
    "\n",
    "constraint_2 = [sum(aa[i:i+ comb(n,2)]) for i in range(0, len(aa), comb(n,2))]\n",
    "for i in range(len(constraint_2)):\n",
    "    prob += constraint_2[i] <= s_max / K"
   ]
  },
  {
   "cell_type": "code",
   "execution_count": null,
   "metadata": {
    "hidden": true
   },
   "outputs": [],
   "source": []
  },
  {
   "cell_type": "code",
   "execution_count": 24,
   "metadata": {
    "hidden": true,
    "scrolled": true
   },
   "outputs": [],
   "source": [
    "# Constraint 3\n",
    "# Each person belongs to only one room\n",
    "constraint_3 = [sum(vertices_2[i:i + K]) for i in range(0, len(vertices_2), K)]\n",
    "for i in range(len(constraint_3)):\n",
    "    prob += constraint_3[i] == 1"
   ]
  },
  {
   "cell_type": "code",
   "execution_count": 25,
   "metadata": {
    "hidden": true
   },
   "outputs": [],
   "source": [
    "# Linearization of quadratic variables\n",
    "# Constraint 4.1\n",
    "\n",
    "for i in range(len(edges_1)):\n",
    "    prob += edges_1[i] <= v_big[i]\n",
    "    \n",
    "# Constraint 4.2\n",
    "for i in range(len(edges_1)):\n",
    "    prob += edges_1[i] <= v_big_2[i]\n",
    "\n",
    "\n",
    "# Constraint 4.3\n",
    "for i in range(len(edges_1)):\n",
    "    prob += edges_1[i] >= v_big[i] + v_big_2[i] - 1 \n",
    "    \n",
    "# # Constraint 4'\n",
    "# for i in range(len(edges_1)):\n",
    "#     prob += edges_1[i] == v_big[i] * v_big_2[i]"
   ]
  },
  {
   "cell_type": "code",
   "execution_count": 26,
   "metadata": {
    "hidden": true
   },
   "outputs": [],
   "source": [
    "path = \"/Users/smeetpatel/Library/gurobi.lic\"\n",
    "solver = GUROBI_CMD(path)"
   ]
  },
  {
   "cell_type": "code",
   "execution_count": null,
   "metadata": {
    "hidden": true,
    "scrolled": true
   },
   "outputs": [],
   "source": []
  },
  {
   "cell_type": "code",
   "execution_count": 27,
   "metadata": {
    "collapsed": true,
    "hidden": true,
    "jupyter": {
     "outputs_hidden": true
    }
   },
   "outputs": [
    {
     "name": "stdout",
     "output_type": "stream",
     "text": [
      "e_0_1_0 = 0.0\n",
      "e_0_1_1 = 0.0\n",
      "e_0_1_2 = 0.0\n",
      "e_0_2_0 = 0.0\n",
      "e_0_2_1 = 1.0\n",
      "e_0_2_2 = 0.0\n",
      "e_0_3_0 = 0.0\n",
      "e_0_3_1 = 0.0\n",
      "e_0_3_2 = 0.0\n",
      "e_0_4_0 = 0.0\n",
      "e_0_4_1 = 0.0\n",
      "e_0_4_2 = 0.0\n",
      "e_0_5_0 = 0.0\n",
      "e_0_5_1 = 1.0\n",
      "e_0_5_2 = 0.0\n",
      "e_0_6_0 = 0.0\n",
      "e_0_6_1 = 0.0\n",
      "e_0_6_2 = 0.0\n",
      "e_0_7_0 = 0.0\n",
      "e_0_7_1 = 0.0\n",
      "e_0_7_2 = 0.0\n",
      "e_0_8_0 = 0.0\n",
      "e_0_8_1 = 0.0\n",
      "e_0_8_2 = 0.0\n",
      "e_0_9_0 = 0.0\n",
      "e_0_9_1 = 0.0\n",
      "e_0_9_2 = 0.0\n",
      "e_1_2_0 = 0.0\n",
      "e_1_2_1 = 0.0\n",
      "e_1_2_2 = 0.0\n",
      "e_1_3_0 = 0.0\n",
      "e_1_3_1 = 0.0\n",
      "e_1_3_2 = 0.0\n",
      "e_1_4_0 = 0.0\n",
      "e_1_4_1 = 0.0\n",
      "e_1_4_2 = 0.0\n",
      "e_1_5_0 = 0.0\n",
      "e_1_5_1 = 0.0\n",
      "e_1_5_2 = 0.0\n",
      "e_1_6_0 = 0.0\n",
      "e_1_6_1 = 0.0\n",
      "e_1_6_2 = 0.0\n",
      "e_1_7_0 = 0.0\n",
      "e_1_7_1 = 0.0\n",
      "e_1_7_2 = 1.0\n",
      "e_1_8_0 = 0.0\n",
      "e_1_8_1 = 0.0\n",
      "e_1_8_2 = 0.0\n",
      "e_1_9_0 = 0.0\n",
      "e_1_9_1 = 0.0\n",
      "e_1_9_2 = 1.0\n",
      "e_2_3_0 = 0.0\n",
      "e_2_3_1 = 0.0\n",
      "e_2_3_2 = 0.0\n",
      "e_2_4_0 = 0.0\n",
      "e_2_4_1 = 0.0\n",
      "e_2_4_2 = 0.0\n",
      "e_2_5_0 = 0.0\n",
      "e_2_5_1 = 1.0\n",
      "e_2_5_2 = 0.0\n",
      "e_2_6_0 = 0.0\n",
      "e_2_6_1 = 0.0\n",
      "e_2_6_2 = 0.0\n",
      "e_2_7_0 = 0.0\n",
      "e_2_7_1 = 0.0\n",
      "e_2_7_2 = 0.0\n",
      "e_2_8_0 = 0.0\n",
      "e_2_8_1 = 0.0\n",
      "e_2_8_2 = 0.0\n",
      "e_2_9_0 = 0.0\n",
      "e_2_9_1 = 0.0\n",
      "e_2_9_2 = 0.0\n",
      "e_3_4_0 = 1.0\n",
      "e_3_4_1 = 0.0\n",
      "e_3_4_2 = 0.0\n",
      "e_3_5_0 = 0.0\n",
      "e_3_5_1 = 0.0\n",
      "e_3_5_2 = 0.0\n",
      "e_3_6_0 = 1.0\n",
      "e_3_6_1 = 0.0\n",
      "e_3_6_2 = 0.0\n",
      "e_3_7_0 = 0.0\n",
      "e_3_7_1 = 0.0\n",
      "e_3_7_2 = 0.0\n",
      "e_3_8_0 = 1.0\n",
      "e_3_8_1 = 0.0\n",
      "e_3_8_2 = 0.0\n",
      "e_3_9_0 = 0.0\n",
      "e_3_9_1 = 0.0\n",
      "e_3_9_2 = 0.0\n",
      "e_4_5_0 = 0.0\n",
      "e_4_5_1 = 0.0\n",
      "e_4_5_2 = 0.0\n",
      "e_4_6_0 = 1.0\n",
      "e_4_6_1 = 0.0\n",
      "e_4_6_2 = 0.0\n",
      "e_4_7_0 = 0.0\n",
      "e_4_7_1 = 0.0\n",
      "e_4_7_2 = 0.0\n",
      "e_4_8_0 = 1.0\n",
      "e_4_8_1 = 0.0\n",
      "e_4_8_2 = 0.0\n",
      "e_4_9_0 = 0.0\n",
      "e_4_9_1 = 0.0\n",
      "e_4_9_2 = 0.0\n",
      "e_5_6_0 = 0.0\n",
      "e_5_6_1 = 0.0\n",
      "e_5_6_2 = 0.0\n",
      "e_5_7_0 = 0.0\n",
      "e_5_7_1 = 0.0\n",
      "e_5_7_2 = 0.0\n",
      "e_5_8_0 = 0.0\n",
      "e_5_8_1 = 0.0\n",
      "e_5_8_2 = 0.0\n",
      "e_5_9_0 = 0.0\n",
      "e_5_9_1 = 0.0\n",
      "e_5_9_2 = 0.0\n",
      "e_6_7_0 = 0.0\n",
      "e_6_7_1 = 0.0\n",
      "e_6_7_2 = 0.0\n",
      "e_6_8_0 = 1.0\n",
      "e_6_8_1 = 0.0\n",
      "e_6_8_2 = 0.0\n",
      "e_6_9_0 = 0.0\n",
      "e_6_9_1 = 0.0\n",
      "e_6_9_2 = 0.0\n",
      "e_7_8_0 = 0.0\n",
      "e_7_8_1 = 0.0\n",
      "e_7_8_2 = 0.0\n",
      "e_7_9_0 = 0.0\n",
      "e_7_9_1 = 0.0\n",
      "e_7_9_2 = 1.0\n",
      "e_8_9_0 = 0.0\n",
      "e_8_9_1 = 0.0\n",
      "e_8_9_2 = 0.0\n",
      "v_0_0 = 0.0\n",
      "v_0_1 = 1.0\n",
      "v_0_2 = 0.0\n",
      "v_1_0 = 0.0\n",
      "v_1_1 = 0.0\n",
      "v_1_2 = 1.0\n",
      "v_2_0 = 0.0\n",
      "v_2_1 = 1.0\n",
      "v_2_2 = 0.0\n",
      "v_3_0 = 1.0\n",
      "v_3_1 = 0.0\n",
      "v_3_2 = 0.0\n",
      "v_4_0 = 1.0\n",
      "v_4_1 = 0.0\n",
      "v_4_2 = 0.0\n",
      "v_5_0 = 0.0\n",
      "v_5_1 = 1.0\n",
      "v_5_2 = 0.0\n",
      "v_6_0 = 1.0\n",
      "v_6_1 = 0.0\n",
      "v_6_2 = 0.0\n",
      "v_7_0 = 0.0\n",
      "v_7_1 = 0.0\n",
      "v_7_2 = 1.0\n",
      "v_8_0 = 1.0\n",
      "v_8_1 = 0.0\n",
      "v_8_2 = 0.0\n",
      "v_9_0 = 0.0\n",
      "v_9_1 = 0.0\n",
      "v_9_2 = 1.0\n"
     ]
    }
   ],
   "source": [
    "prob.solve(solver)\n",
    "for v in prob.variables():\n",
    "    print(v.name, \"=\", v.varValue)"
   ]
  },
  {
   "cell_type": "markdown",
   "metadata": {
    "heading_collapsed": true
   },
   "source": [
    "# Gurobi Infra "
   ]
  },
  {
   "cell_type": "code",
   "execution_count": 28,
   "metadata": {
    "hidden": true
   },
   "outputs": [],
   "source": [
    "sample_input = pd.read_csv(\"samples/10.in\", header = None)\n",
    "n = int(list(sample_input[0])[0])\n",
    "s_max = int(list(sample_input[0])[1])\n",
    "K = 3"
   ]
  },
  {
   "cell_type": "code",
   "execution_count": 29,
   "metadata": {
    "hidden": true
   },
   "outputs": [],
   "source": [
    "# Parsing input data \n",
    "df = sample_input\n",
    "df = pd.DataFrame([x.split() for x in df[0].tolist() ])\n",
    "df = df.loc[2:,:]\n",
    "df[\"i\"] = df.loc[:,0]\n",
    "df[\"j\"] = df.loc[:,1]\n",
    "df[\"sadness\"] = df.loc[:,3]\n",
    "df[\"happiness\"] = df.loc[:,2]\n",
    "df = df[[\"i\", \"j\", \"sadness\", \"happiness\"]]"
   ]
  },
  {
   "cell_type": "code",
   "execution_count": 30,
   "metadata": {
    "hidden": true
   },
   "outputs": [
    {
     "data": {
      "text/plain": [
       "True"
      ]
     },
     "execution_count": 30,
     "metadata": {},
     "output_type": "execute_result"
    }
   ],
   "source": [
    "i_id = [int(i) for i in list(df[\"i\"])]\n",
    "j_id = [int(i) for i in list(df[\"j\"])]\n",
    "sadness = [float(i) for i in list(df[\"sadness\"])]*K\n",
    "happiness = [float(i) for i in list(df[\"happiness\"])]*K\n",
    "\n",
    "sadness_1 = [float(i) for i in list(df[\"sadness\"])]\n",
    "happiness_1 = [float(i) for i in list(df[\"happiness\"])]\n",
    "len(sadness) == len(happiness)"
   ]
  },
  {
   "cell_type": "code",
   "execution_count": 31,
   "metadata": {
    "hidden": true
   },
   "outputs": [
    {
     "name": "stdout",
     "output_type": "stream",
     "text": [
      "Using license file /Users/smeetpatel/gurobi.lic\n",
      "Academic license - for non-commercial use only - expires 2021-01-22\n"
     ]
    }
   ],
   "source": [
    "m = gp.Model(\"proj\")"
   ]
  },
  {
   "cell_type": "code",
   "execution_count": 32,
   "metadata": {
    "hidden": true
   },
   "outputs": [],
   "source": [
    "d_e = {}\n",
    "for k in range(K):\n",
    "    for i in range(comb(n,2)):\n",
    "        d_e[\"e_{0}_{1}_{2}\".format(i_id[i],j_id[i],k)] = m.addVar(name= \"e_{0}_{1}_{2}\".format(i_id[i],j_id[i],k), vtype = GRB.BINARY)\n",
    "edges_1 = list(d_e.values())"
   ]
  },
  {
   "cell_type": "code",
   "execution_count": 33,
   "metadata": {
    "hidden": true
   },
   "outputs": [
    {
     "data": {
      "text/plain": [
       "True"
      ]
     },
     "execution_count": 33,
     "metadata": {},
     "output_type": "execute_result"
    }
   ],
   "source": [
    "# Create another edge array with different sort\n",
    "edges_2 = [d_e.get(i) for i in sorted(d_e.keys(), key=lambda x: (x[2], x[4]))]\n",
    "\n",
    "# Create another edge array for constraint 4 \n",
    "edges_3 = [d_e.get(i) for i in sorted(d_e.keys(), key=lambda x: (x[2], x[6]))]\n",
    "\n",
    "# Check\n",
    "len(edges_1) == comb(n,2)*K"
   ]
  },
  {
   "cell_type": "code",
   "execution_count": 34,
   "metadata": {
    "hidden": true
   },
   "outputs": [
    {
     "data": {
      "text/plain": [
       "True"
      ]
     },
     "execution_count": 34,
     "metadata": {},
     "output_type": "execute_result"
    }
   ],
   "source": [
    "# vertices \n",
    "d_v = {}\n",
    "for j in range(K):\n",
    "    for i in range(n):\n",
    "        d_v[\"v_{0}_{1}\".format(i,j)] = m.addVar(name = \"v_{0}_{1}\".format(i,j),  vtype = GRB.BINARY)\n",
    "vertices_1 = list(d_v.values())\n",
    "\n",
    "# Create another edge array with different sort\n",
    "vertices_2 = [d_v.get(i) for i in sorted(d_v.keys(), key=lambda x: x[2])]\n",
    "\n",
    "# Check\n",
    "len(vertices_1) == n*K"
   ]
  },
  {
   "cell_type": "code",
   "execution_count": 35,
   "metadata": {
    "hidden": true
   },
   "outputs": [
    {
     "name": "stdout",
     "output_type": "stream",
     "text": [
      "True\n"
     ]
    }
   ],
   "source": [
    "# Linearization of quadratic variables 1 \n",
    "v_list = np.array(np.array_split(vertices_1, K)).tolist()\n",
    "v_big = []\n",
    "for i in range(K):\n",
    "    j = 0\n",
    "    while j != n:\n",
    "        for _ in range(j,n-1):\n",
    "            v_big.append(v_list[i][j])\n",
    "        j += 1\n",
    "        \n",
    "print(len(edges_1) == len(v_big))"
   ]
  },
  {
   "cell_type": "code",
   "execution_count": 36,
   "metadata": {
    "hidden": true
   },
   "outputs": [
    {
     "name": "stdout",
     "output_type": "stream",
     "text": [
      "True\n"
     ]
    }
   ],
   "source": [
    "# Linearization of quadratic variables 2\n",
    "v_list_2 = [i[1:] for i in v_list]\n",
    "v_big_2 = []\n",
    "for h in range(K):\n",
    "    j = 0\n",
    "    while j != n:\n",
    "        for i in range(j,n-1):\n",
    "            v_big_2.append(v_list_2[h][i])\n",
    "        j += 1\n",
    "        i = j\n",
    "print(len(edges_1) == len(v_big_2))"
   ]
  },
  {
   "cell_type": "code",
   "execution_count": 37,
   "metadata": {
    "hidden": true
   },
   "outputs": [],
   "source": [
    "m.setObjective(sum(edges_1[i] * happiness[i] for i in range(len(happiness))), GRB.MAXIMIZE)"
   ]
  },
  {
   "cell_type": "code",
   "execution_count": 38,
   "metadata": {
    "hidden": true
   },
   "outputs": [],
   "source": [
    "# # Not sure if we need this constraint now \n",
    "# # Constraint 1 \n",
    "# constraint_2 = [sum(edges_1[i:i + K]) for i in range(0, len(edges_1), K)]\n",
    "# for i in range(len(constraint_3)):\n",
    "#     m.addConstr(constraint_2[i] == 1)"
   ]
  },
  {
   "cell_type": "code",
   "execution_count": 39,
   "metadata": {
    "hidden": true
   },
   "outputs": [],
   "source": [
    "aa = []\n",
    "h = 0\n",
    "for i in range(K):\n",
    "    for j in range(comb(n,2)):\n",
    "        aa.append(edges_1[h] * sadness_1[j])\n",
    "        h += 1\n",
    "\n",
    "constraint_2 = [sum(aa[i:i+ comb(n,2)]) for i in range(0, len(aa), comb(n,2))]\n",
    "for i in range(len(constraint_2)):\n",
    "    m.addConstr(constraint_2[i] <=  s_max / K)"
   ]
  },
  {
   "cell_type": "code",
   "execution_count": 40,
   "metadata": {
    "hidden": true
   },
   "outputs": [],
   "source": [
    "constraint_3 = [sum(vertices_2[i:i + K]) for i in range(0, len(vertices_2), K)]\n",
    "for i in range(len(constraint_3)):\n",
    "    m.addConstr(constraint_3[i] == 1)"
   ]
  },
  {
   "cell_type": "code",
   "execution_count": 41,
   "metadata": {
    "hidden": true
   },
   "outputs": [],
   "source": [
    "for i in range(len(edges_1)):\n",
    "     m.addConstr(edges_1[i] <= v_big[i])\n",
    "    \n",
    "# Constraint 4.2\n",
    "for i in range(len(edges_1)):\n",
    "     m.addConstr(edges_1[i] <= v_big_2[i])\n",
    "\n",
    "\n",
    "# Constraint 4.3\n",
    "for i in range(len(edges_1)):\n",
    "    m.addConstr(edges_1[i] >= v_big[i] + v_big_2[i] - 1)\n",
    "\n",
    "# # Constraint 4'\n",
    "# for i in range(len(edges_1)):\n",
    "#     m.addConstr(edges_1[i] == v_big[i] * v_big_2[i])"
   ]
  },
  {
   "cell_type": "code",
   "execution_count": 42,
   "metadata": {
    "collapsed": true,
    "hidden": true
   },
   "outputs": [
    {
     "name": "stdout",
     "output_type": "stream",
     "text": [
      "Gurobi Optimizer version 9.1.0 build v9.1.0rc0 (mac64)\n",
      "Thread count: 2 physical cores, 4 logical processors, using up to 4 threads\n",
      "Optimize a model with 418 rows, 165 columns and 1110 nonzeros\n",
      "Model fingerprint: 0x40f90fe8\n",
      "Variable types: 0 continuous, 165 integer (165 binary)\n",
      "Coefficient statistics:\n",
      "  Matrix range     [1e+00, 1e+01]\n",
      "  Objective range  [2e+00, 1e+01]\n",
      "  Bounds range     [1e+00, 1e+00]\n",
      "  RHS range        [1e+00, 3e+01]\n",
      "Presolve time: 0.01s\n",
      "Presolved: 418 rows, 165 columns, 1110 nonzeros\n",
      "Variable types: 0 continuous, 165 integer (165 binary)\n",
      "Found heuristic solution: objective 81.0000000\n",
      "\n",
      "Root relaxation: objective 1.068825e+02, 151 iterations, 0.00 seconds\n",
      "\n",
      "    Nodes    |    Current Node    |     Objective Bounds      |     Work\n",
      " Expl Unexpl |  Obj  Depth IntInf | Incumbent    BestBd   Gap | It/Node Time\n",
      "\n",
      "     0     0  106.88248    0   66   81.00000  106.88248  32.0%     -    0s\n",
      "     0     0   99.69314    0   73   81.00000   99.69314  23.1%     -    0s\n",
      "     0     0   95.12194    0   78   81.00000   95.12194  17.4%     -    0s\n",
      "H    0     0                      82.0000000   95.12194  16.0%     -    0s\n",
      "     0     0   93.42085    0   63   82.00000   93.42085  13.9%     -    0s\n",
      "     0     0   93.30506    0   71   82.00000   93.30506  13.8%     -    0s\n",
      "     0     0   93.29687    0   69   82.00000   93.29687  13.8%     -    0s\n",
      "     0     0   91.93657    0   76   82.00000   91.93657  12.1%     -    0s\n",
      "     0     0   91.80689    0   76   82.00000   91.80689  12.0%     -    0s\n",
      "     0     0   91.79545    0   78   82.00000   91.79545  11.9%     -    0s\n",
      "     0     0   91.79271    0   74   82.00000   91.79271  11.9%     -    0s\n",
      "     0     0   91.09844    0   78   82.00000   91.09844  11.1%     -    0s\n",
      "     0     0   90.59764    0   73   82.00000   90.59764  10.5%     -    0s\n",
      "     0     0   90.50338    0   75   82.00000   90.50338  10.4%     -    0s\n",
      "     0     0   90.49837    0   79   82.00000   90.49837  10.4%     -    0s\n",
      "     0     0   90.03730    0   75   82.00000   90.03730  9.80%     -    0s\n",
      "     0     0   89.94449    0   81   82.00000   89.94449  9.69%     -    0s\n",
      "     0     0   89.91613    0   76   82.00000   89.91613  9.65%     -    0s\n",
      "     0     0   89.62489    0   82   82.00000   89.62489  9.30%     -    0s\n",
      "     0     0   89.56004    0   76   82.00000   89.56004  9.22%     -    0s\n",
      "     0     0   89.54491    0   75   82.00000   89.54491  9.20%     -    0s\n",
      "     0     0   89.54173    0   79   82.00000   89.54173  9.20%     -    0s\n",
      "     0     0   89.44126    0   95   82.00000   89.44126  9.07%     -    0s\n",
      "     0     0   89.42169    0   94   82.00000   89.42169  9.05%     -    0s\n",
      "     0     0   89.42057    0  101   82.00000   89.42057  9.05%     -    0s\n",
      "     0     0   89.41903    0   93   82.00000   89.41903  9.05%     -    0s\n",
      "     0     0   89.41903    0   93   82.00000   89.41903  9.05%     -    0s\n",
      "     0     0   89.41903    0   62   82.00000   89.41903  9.05%     -    1s\n",
      "     0     0   89.41903    0   57   82.00000   89.41903  9.05%     -    1s\n",
      "     0     0   88.85217    0   73   82.00000   88.85217  8.36%     -    1s\n",
      "     0     0   88.53427    0   71   82.00000   88.53427  7.97%     -    1s\n",
      "     0     0   88.52378    0   69   82.00000   88.52378  7.96%     -    1s\n",
      "     0     0   88.52284    0   76   82.00000   88.52284  7.95%     -    1s\n",
      "     0     0   88.41036    0   70   82.00000   88.41036  7.82%     -    1s\n",
      "     0     0   88.39917    0   67   82.00000   88.39917  7.80%     -    1s\n",
      "     0     0   88.38078    0   60   82.00000   88.38078  7.78%     -    1s\n",
      "     0     0   88.38078    0   65   82.00000   88.38078  7.78%     -    1s\n",
      "     0     0   88.24247    0   72   82.00000   88.24247  7.61%     -    1s\n",
      "     0     0   88.20220    0   71   82.00000   88.20220  7.56%     -    1s\n",
      "     0     0   88.19922    0   74   82.00000   88.19922  7.56%     -    1s\n",
      "     0     0   87.75077    0   74   82.00000   87.75077  7.01%     -    1s\n",
      "     0     0   87.75077    0   78   82.00000   87.75077  7.01%     -    1s\n",
      "     0     0   87.59881    0   65   82.00000   87.59881  6.83%     -    1s\n",
      "     0     0   87.47422    0   69   82.00000   87.47422  6.68%     -    1s\n",
      "     0     0   87.46593    0   75   82.00000   87.46593  6.67%     -    2s\n",
      "     0     0   87.46593    0   72   82.00000   87.46593  6.67%     -    2s\n",
      "     0     0   87.44152    0   65   82.00000   87.44152  6.64%     -    2s\n",
      "     0     0   87.44152    0   67   82.00000   87.44152  6.64%     -    2s\n",
      "     0     0   87.43991    0   73   82.00000   87.43991  6.63%     -    2s\n",
      "     0     0   86.71489    0   62   82.00000   86.71489  5.75%     -    2s\n",
      "     0     0   86.71489    0   62   82.00000   86.71489  5.75%     -    2s\n",
      "     0     0   86.53164    0   28   82.00000   86.53164  5.53%     -    2s\n",
      "     0     0   86.53164    0   47   82.00000   86.53164  5.53%     -    2s\n",
      "     0     0   86.53164    0   51   82.00000   86.53164  5.53%     -    2s\n",
      "     0     0   86.53164    0   53   82.00000   86.53164  5.53%     -    2s\n",
      "     0     0   86.53164    0   55   82.00000   86.53164  5.53%     -    2s\n",
      "     0     0   86.53164    0   54   82.00000   86.53164  5.53%     -    2s\n",
      "     0     0   86.53164    0   49   82.00000   86.53164  5.53%     -    2s\n",
      "     0     0   86.53164    0   54   82.00000   86.53164  5.53%     -    2s\n",
      "     0     0   86.53164    0   54   82.00000   86.53164  5.53%     -    2s\n",
      "     0     0   86.53164    0   54   82.00000   86.53164  5.53%     -    2s\n",
      "     0     2   85.46739    0   54   82.00000   85.46739  4.23%     -    2s\n",
      "\n",
      "Cutting planes:\n",
      "  Cover: 1\n",
      "  Implied bound: 4\n",
      "  MIR: 4\n",
      "  Zero half: 12\n",
      "  RLT: 31\n",
      "  BQP: 9\n",
      "\n",
      "Explored 11 nodes (1883 simplex iterations) in 3.08 seconds\n",
      "Thread count was 4 (of 4 available processors)\n",
      "\n",
      "Solution count 2: 82 81 \n",
      "\n",
      "Optimal solution found (tolerance 1.00e-04)\n",
      "Best objective 8.200000000000e+01, best bound 8.200000000000e+01, gap 0.0000%\n"
     ]
    }
   ],
   "source": [
    "m.optimize()"
   ]
  },
  {
   "cell_type": "code",
   "execution_count": 43,
   "metadata": {
    "collapsed": true,
    "hidden": true
   },
   "outputs": [
    {
     "name": "stdout",
     "output_type": "stream",
     "text": [
      "('e_0_1_0', 0.0)\n",
      "('e_0_2_0', 1.0)\n",
      "('e_0_3_0', 0.0)\n",
      "('e_0_4_0', 0.0)\n",
      "('e_0_5_0', 1.0)\n",
      "('e_0_6_0', 0.0)\n",
      "('e_0_7_0', 0.0)\n",
      "('e_0_8_0', 0.0)\n",
      "('e_0_9_0', 0.0)\n",
      "('e_1_2_0', 0.0)\n",
      "('e_1_3_0', 0.0)\n",
      "('e_1_4_0', 0.0)\n",
      "('e_1_5_0', 0.0)\n",
      "('e_1_6_0', 0.0)\n",
      "('e_1_7_0', 0.0)\n",
      "('e_1_8_0', 0.0)\n",
      "('e_1_9_0', 0.0)\n",
      "('e_2_3_0', 0.0)\n",
      "('e_2_4_0', 0.0)\n",
      "('e_2_5_0', 1.0)\n",
      "('e_2_6_0', 0.0)\n",
      "('e_2_7_0', 0.0)\n",
      "('e_2_8_0', 0.0)\n",
      "('e_2_9_0', 0.0)\n",
      "('e_3_4_0', 0.0)\n",
      "('e_3_5_0', 0.0)\n",
      "('e_3_6_0', 0.0)\n",
      "('e_3_7_0', 0.0)\n",
      "('e_3_8_0', 0.0)\n",
      "('e_3_9_0', 0.0)\n",
      "('e_4_5_0', 0.0)\n",
      "('e_4_6_0', 0.0)\n",
      "('e_4_7_0', 0.0)\n",
      "('e_4_8_0', 0.0)\n",
      "('e_4_9_0', 0.0)\n",
      "('e_5_6_0', 0.0)\n",
      "('e_5_7_0', 0.0)\n",
      "('e_5_8_0', 0.0)\n",
      "('e_5_9_0', 0.0)\n",
      "('e_6_7_0', 0.0)\n",
      "('e_6_8_0', 0.0)\n",
      "('e_6_9_0', 0.0)\n",
      "('e_7_8_0', 0.0)\n",
      "('e_7_9_0', 0.0)\n",
      "('e_8_9_0', 0.0)\n",
      "('e_0_1_1', 0.0)\n",
      "('e_0_2_1', 0.0)\n",
      "('e_0_3_1', 0.0)\n",
      "('e_0_4_1', 0.0)\n",
      "('e_0_5_1', 0.0)\n",
      "('e_0_6_1', 0.0)\n",
      "('e_0_7_1', 0.0)\n",
      "('e_0_8_1', 0.0)\n",
      "('e_0_9_1', 0.0)\n",
      "('e_1_2_1', 0.0)\n",
      "('e_1_3_1', 0.0)\n",
      "('e_1_4_1', 0.0)\n",
      "('e_1_5_1', 0.0)\n",
      "('e_1_6_1', 0.0)\n",
      "('e_1_7_1', 1.0)\n",
      "('e_1_8_1', 0.0)\n",
      "('e_1_9_1', 1.0)\n",
      "('e_2_3_1', 0.0)\n",
      "('e_2_4_1', 0.0)\n",
      "('e_2_5_1', 0.0)\n",
      "('e_2_6_1', 0.0)\n",
      "('e_2_7_1', 0.0)\n",
      "('e_2_8_1', 0.0)\n",
      "('e_2_9_1', 0.0)\n",
      "('e_3_4_1', 0.0)\n",
      "('e_3_5_1', 0.0)\n",
      "('e_3_6_1', 0.0)\n",
      "('e_3_7_1', 0.0)\n",
      "('e_3_8_1', 0.0)\n",
      "('e_3_9_1', 0.0)\n",
      "('e_4_5_1', 0.0)\n",
      "('e_4_6_1', 0.0)\n",
      "('e_4_7_1', 0.0)\n",
      "('e_4_8_1', 0.0)\n",
      "('e_4_9_1', 0.0)\n",
      "('e_5_6_1', 0.0)\n",
      "('e_5_7_1', 0.0)\n",
      "('e_5_8_1', 0.0)\n",
      "('e_5_9_1', 0.0)\n",
      "('e_6_7_1', 0.0)\n",
      "('e_6_8_1', 0.0)\n",
      "('e_6_9_1', 0.0)\n",
      "('e_7_8_1', 0.0)\n",
      "('e_7_9_1', 1.0)\n",
      "('e_8_9_1', 0.0)\n",
      "('e_0_1_2', 0.0)\n",
      "('e_0_2_2', 0.0)\n",
      "('e_0_3_2', 0.0)\n",
      "('e_0_4_2', 0.0)\n",
      "('e_0_5_2', 0.0)\n",
      "('e_0_6_2', 0.0)\n",
      "('e_0_7_2', 0.0)\n",
      "('e_0_8_2', 0.0)\n",
      "('e_0_9_2', 0.0)\n",
      "('e_1_2_2', 0.0)\n",
      "('e_1_3_2', 0.0)\n",
      "('e_1_4_2', 0.0)\n",
      "('e_1_5_2', 0.0)\n",
      "('e_1_6_2', 0.0)\n",
      "('e_1_7_2', 0.0)\n",
      "('e_1_8_2', 0.0)\n",
      "('e_1_9_2', 0.0)\n",
      "('e_2_3_2', 0.0)\n",
      "('e_2_4_2', 0.0)\n",
      "('e_2_5_2', 0.0)\n",
      "('e_2_6_2', 0.0)\n",
      "('e_2_7_2', 0.0)\n",
      "('e_2_8_2', 0.0)\n",
      "('e_2_9_2', 0.0)\n",
      "('e_3_4_2', 1.0)\n",
      "('e_3_5_2', 0.0)\n",
      "('e_3_6_2', 1.0)\n",
      "('e_3_7_2', 0.0)\n",
      "('e_3_8_2', 1.0)\n",
      "('e_3_9_2', 0.0)\n",
      "('e_4_5_2', 0.0)\n",
      "('e_4_6_2', 1.0)\n",
      "('e_4_7_2', 0.0)\n",
      "('e_4_8_2', 1.0)\n",
      "('e_4_9_2', 0.0)\n",
      "('e_5_6_2', 0.0)\n",
      "('e_5_7_2', 0.0)\n",
      "('e_5_8_2', 0.0)\n",
      "('e_5_9_2', 0.0)\n",
      "('e_6_7_2', 0.0)\n",
      "('e_6_8_2', 1.0)\n",
      "('e_6_9_2', 0.0)\n",
      "('e_7_8_2', 0.0)\n",
      "('e_7_9_2', 0.0)\n",
      "('e_8_9_2', 0.0)\n",
      "('v_0_0', 1.0)\n",
      "('v_1_0', 0.0)\n",
      "('v_2_0', 1.0)\n",
      "('v_3_0', 0.0)\n",
      "('v_4_0', 0.0)\n",
      "('v_5_0', 1.0)\n",
      "('v_6_0', 0.0)\n",
      "('v_7_0', 0.0)\n",
      "('v_8_0', 0.0)\n",
      "('v_9_0', 0.0)\n",
      "('v_0_1', 0.0)\n",
      "('v_1_1', 1.0)\n",
      "('v_2_1', 0.0)\n",
      "('v_3_1', 0.0)\n",
      "('v_4_1', 0.0)\n",
      "('v_5_1', 0.0)\n",
      "('v_6_1', 0.0)\n",
      "('v_7_1', 1.0)\n",
      "('v_8_1', 0.0)\n",
      "('v_9_1', 1.0)\n",
      "('v_0_2', 0.0)\n",
      "('v_1_2', 0.0)\n",
      "('v_2_2', 0.0)\n",
      "('v_3_2', 1.0)\n",
      "('v_4_2', 1.0)\n",
      "('v_5_2', 0.0)\n",
      "('v_6_2', 1.0)\n",
      "('v_7_2', 0.0)\n",
      "('v_8_2', 1.0)\n",
      "('v_9_2', 0.0)\n"
     ]
    }
   ],
   "source": [
    "for v in m.getVars():\n",
    "    print((v.varName , v.x))"
   ]
  },
  {
   "cell_type": "code",
   "execution_count": null,
   "metadata": {
    "hidden": true
   },
   "outputs": [],
   "source": []
  },
  {
   "cell_type": "code",
   "execution_count": null,
   "metadata": {
    "hidden": true
   },
   "outputs": [],
   "source": []
  }
 ],
 "metadata": {
  "kernelspec": {
   "display_name": "Python 3",
   "language": "python",
   "name": "python3"
  },
  "language_info": {
   "codemirror_mode": {
    "name": "ipython",
    "version": 3
   },
   "file_extension": ".py",
   "mimetype": "text/x-python",
   "name": "python",
   "nbconvert_exporter": "python",
   "pygments_lexer": "ipython3",
   "version": "3.9.0"
  },
  "latex_envs": {
   "LaTeX_envs_menu_present": true,
   "autoclose": true,
   "autocomplete": true,
   "bibliofile": "biblio.bib",
   "cite_by": "apalike",
   "current_citInitial": 1,
   "eqLabelWithNumbers": true,
   "eqNumInitial": 1,
   "hotkeys": {
    "equation": "Ctrl-E",
    "itemize": "Ctrl-I"
   },
   "labels_anchors": false,
   "latex_user_defs": false,
   "report_style_numbering": false,
   "user_envs_cfg": false
  },
  "toc": {
   "base_numbering": 1,
   "nav_menu": {},
   "number_sections": true,
   "sideBar": true,
   "skip_h1_title": false,
   "title_cell": "Table of Contents",
   "title_sidebar": "Contents",
   "toc_cell": false,
   "toc_position": {},
   "toc_section_display": true,
   "toc_window_display": false
  },
  "varInspector": {
   "cols": {
    "lenName": 16,
    "lenType": 16,
    "lenVar": 40
   },
   "kernels_config": {
    "python": {
     "delete_cmd_postfix": "",
     "delete_cmd_prefix": "del ",
     "library": "var_list.py",
     "varRefreshCmd": "print(var_dic_list())"
    },
    "r": {
     "delete_cmd_postfix": ") ",
     "delete_cmd_prefix": "rm(",
     "library": "var_list.r",
     "varRefreshCmd": "cat(var_dic_list()) "
    }
   },
   "types_to_exclude": [
    "module",
    "function",
    "builtin_function_or_method",
    "instance",
    "_Feature"
   ],
   "window_display": false
  }
 },
 "nbformat": 4,
 "nbformat_minor": 4
}
