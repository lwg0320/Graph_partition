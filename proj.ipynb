{
 "cells": [
  {
   "cell_type": "markdown",
   "metadata": {},
   "source": [
    "# Experimentation"
   ]
  },
  {
   "cell_type": "code",
   "execution_count": 2,
   "metadata": {},
   "outputs": [],
   "source": [
    "%matplotlib inline\n",
    "import matplotlib.pyplot as plt\n",
    "import numpy as np \n",
    "import pandas as pd\n",
    "import networkx as nx\n",
    "from parse import *\n",
    "from utils  import *\n",
    "from pulp import *\n",
    "from math import comb\n",
    "import gurobipy as gp\n",
    "from gurobipy import GRB"
   ]
  },
  {
   "cell_type": "code",
   "execution_count": 3,
   "metadata": {},
   "outputs": [],
   "source": [
    "sample_input = pd.read_csv(\"samples/10.in\", header = None)\n",
    "sample_output = np.array(pd.read_csv(\"samples/10.out\", header = None))"
   ]
  },
  {
   "cell_type": "code",
   "execution_count": 4,
   "metadata": {},
   "outputs": [],
   "source": [
    "graph, budget = read_input_file(\"samples/10.in\")"
   ]
  },
  {
   "cell_type": "code",
   "execution_count": 5,
   "metadata": {},
   "outputs": [],
   "source": [
    "pos = nx.kamada_kawai_layout(graph)  # positions for all nodes\n",
    "# nx.draw(graph, pos, with_labels=True)"
   ]
  },
  {
   "cell_type": "code",
   "execution_count": 6,
   "metadata": {},
   "outputs": [],
   "source": [
    "# prob = LpProblem(\"proj\",LpMaximize)"
   ]
  },
  {
   "cell_type": "code",
   "execution_count": 7,
   "metadata": {},
   "outputs": [],
   "source": [
    "# # edges \n",
    "# # Add diagonal variables such that (1,1) have 0 happiness and sadness\n",
    "# edges = np.array([\"e01\",\"e02\",\"e03\",\"e12\",\"e13\",\"e23\"])\n",
    "# weights = [9.2, 5.4, 2.123, 75.4,18,87]*3\n",
    "# sad = [3,40.8,98,8,57.904,9.4]*3\n",
    "# d = {}\n",
    "# for j in range(3):\n",
    "#     for i in edges:\n",
    "#         d[\"{0}_{1}\".format(i,j)] = LpVariable(\"{0}_{1}\".format(i,j), lowBound = 0, upBound=1, cat=\"Integer\")\n",
    "# edges = list(d.values())\n",
    "# # e11 = LpVariable(\"{0}_{1}\".format(i,j), lowBound = 0, upBound=1, cat=\"Integer\")\n",
    "# # e22 = LpVariable(\"{0}_{1}\".format(i,j), lowBound = 0, upBound=1, cat=\"Integer\")\n",
    "# # e33 = LpVariable(\"{0}_{1}\".format(i,j), lowBound = 0, upBound=1, cat=\"Integer\")"
   ]
  },
  {
   "cell_type": "code",
   "execution_count": 8,
   "metadata": {},
   "outputs": [],
   "source": [
    "# # vertices \n",
    "# vertices = [\"v0\", \"v1\", \"v2\", \"v3\"]\n",
    "# d = {}\n",
    "# for j in range(3):\n",
    "#     for i in vertices:\n",
    "#         d[\"{0}_{1}\".format(i,j)] = LpVariable(\"{0}_{1}\".format(i,j), lowBound = 0, cat=\"Integer\")\n",
    "# vertices = list(d.values())\n",
    "# vertices"
   ]
  },
  {
   "cell_type": "code",
   "execution_count": 9,
   "metadata": {},
   "outputs": [],
   "source": [
    "# prob += sum(edges[i] * weights[i] for i in range(len(weights)))"
   ]
  },
  {
   "cell_type": "code",
   "execution_count": 10,
   "metadata": {},
   "outputs": [],
   "source": [
    "# prob += sum(edges[i] for i in [0,6,12]) == 1\n",
    "# prob += sum(edges[i] for i in [1,7,13]) == 1\n",
    "# prob += sum(edges[i] for i in [2,8,14]) == 1\n",
    "# prob += sum(edges[i] for i in [3,9,15]) == 1\n",
    "# prob += sum(edges[i] for i in [4,10,16]) == 1\n",
    "# prob += sum(edges[i] for i in [5,11,17]) == 1"
   ]
  },
  {
   "cell_type": "code",
   "execution_count": 11,
   "metadata": {},
   "outputs": [],
   "source": [
    "# prob += sum(edges[i] * sad[i] for i in range(6)) <= 42.314/3\n",
    "# prob += sum(edges[i] * sad[i] for i in range(6,12)) <= 42.314/3\n",
    "# prob += sum(edges[i] * sad[i] for i in range(12,18)) <= 42.314/3\n",
    "\n",
    "# prob += sum(vertices[i] for i in [0,4,8]) == 1 \n",
    "# prob += sum(vertices[i] for i in [1,5,9]) == 1\n",
    "# prob += sum(vertices[i] for i in [2,6,10]) == 1\n",
    "# prob += sum(vertices[i] for i in [3,7,11]) == 1\n",
    "\n",
    "\n",
    "# # Linearization of quadratic variables (eijk =vik * vjk)"
   ]
  },
  {
   "cell_type": "code",
   "execution_count": 12,
   "metadata": {},
   "outputs": [],
   "source": [
    "# prob"
   ]
  },
  {
   "cell_type": "code",
   "execution_count": 13,
   "metadata": {},
   "outputs": [],
   "source": [
    "# prob.solve()\n",
    "# for v in prob.variables():\n",
    "#     print(v.name, \"=\", v.varValue)"
   ]
  },
  {
   "cell_type": "markdown",
   "metadata": {
    "heading_collapsed": true
   },
   "source": [
    "# Scale  "
   ]
  },
  {
   "cell_type": "markdown",
   "metadata": {
    "hidden": true
   },
   "source": [
    "Assumptions \n",
    "- Rooms with individuals are usually not optimal and hence are not considered in the model\n",
    "- We have a good heuristic for choosing the number of rooms"
   ]
  },
  {
   "cell_type": "markdown",
   "metadata": {
    "deletable": false,
    "editable": false,
    "hidden": true,
    "run_control": {
     "frozen": true
    }
   },
   "source": [
    "<!-- - Either $e_{i,i} = 1$ or $e_{i,j} = 1, \\ \\ \\ \\exists j$ -->\n",
    "- Pick R arbitrarily \n",
    "    - Work on heuristics later\n",
    "<!-- - Add $e_{i,i} \\forall \\ \\ i$ -->\n",
    "- Create k * (n choose 2) variables representing each pair and its class i.e,  e_i,j,k  for $k \\in \\{2, n-1\\}$\n",
    "- Objective $max\\{\\sum e_{i,j,k}*h_{i,j}\\}$ \n",
    "\n",
    "- Constraints\n",
    "    - $\\sum_{k = 1}^{K} e_{i,j,k} = 1  \\ \\ \\ \\ \\forall (i,j)$\n",
    "    - If $(i,j) = 1 \\And \\ (i,h) = 1 \\implies (j,h) = 1$\n",
    "         - In LP notation: \n",
    "    - $\\sum_{(i,j)} s_{i,j}e_{i,j,k} \\leq \\frac{S_{max}}{K} \\ \\ \\ \\forall k \\in K$ "
   ]
  },
  {
   "cell_type": "markdown",
   "metadata": {
    "hidden": true
   },
   "source": [
    "- Parse the inputs into H and S arrays representing happiness and sadness \n",
    "- Get K number of rooms (improve later)\n",
    "- Define edges and vertices as LpVariables \n",
    "    - Make them into two arrays, one sorted based on ids and another based on rooms (4 arrays in total)\n",
    "- Define constraints "
   ]
  },
  {
   "cell_type": "code",
   "execution_count": 14,
   "metadata": {
    "hidden": true
   },
   "outputs": [],
   "source": [
    "n = int(list(sample_input[0])[0])\n",
    "s_max = int(list(sample_input[0])[1])\n",
    "K = 3"
   ]
  },
  {
   "cell_type": "code",
   "execution_count": 15,
   "metadata": {
    "hidden": true
   },
   "outputs": [],
   "source": [
    "# Parsing input data \n",
    "df = sample_input\n",
    "df = pd.DataFrame([x.split() for x in df[0].tolist() ])\n",
    "df = df.loc[2:,:]\n",
    "df[\"i\"] = df.loc[:,0]\n",
    "df[\"j\"] = df.loc[:,1]\n",
    "df[\"sadness\"] = df.loc[:,3]\n",
    "df[\"happiness\"] = df.loc[:,2]\n",
    "df = df[[\"i\", \"j\", \"sadness\", \"happiness\"]]"
   ]
  },
  {
   "cell_type": "code",
   "execution_count": 16,
   "metadata": {
    "hidden": true
   },
   "outputs": [
    {
     "data": {
      "text/plain": [
       "True"
      ]
     },
     "execution_count": 16,
     "metadata": {},
     "output_type": "execute_result"
    }
   ],
   "source": [
    "i_id = [int(i) for i in list(df[\"i\"])]\n",
    "j_id = [int(i) for i in list(df[\"j\"])]\n",
    "sadness = [float(i) for i in list(df[\"sadness\"])]*K\n",
    "happiness = [float(i) for i in list(df[\"happiness\"])]*K\n",
    "\n",
    "sadness_1 = [float(i) for i in list(df[\"sadness\"])]\n",
    "happiness_1 = [float(i) for i in list(df[\"happiness\"])]\n",
    "len(sadness) == len(happiness)"
   ]
  },
  {
   "cell_type": "code",
   "execution_count": 17,
   "metadata": {
    "hidden": true
   },
   "outputs": [],
   "source": [
    "prob = LpProblem(\"solver\",LpMaximize)"
   ]
  },
  {
   "cell_type": "code",
   "execution_count": 18,
   "metadata": {
    "hidden": true
   },
   "outputs": [
    {
     "data": {
      "text/plain": [
       "True"
      ]
     },
     "execution_count": 18,
     "metadata": {},
     "output_type": "execute_result"
    }
   ],
   "source": [
    "# edges \n",
    "d_e = {}\n",
    "for k in range(K):\n",
    "    for i in range(comb(n,2)):\n",
    "        d_e[\"e_{0}_{1}_{2}\".format(i_id[i],j_id[i],k)] = LpVariable(\"e_{0}_{1}_{2}\".format(i_id[i],j_id[i],k), cat=\"Binary\")\n",
    "edges_1 = list(d_e.values())\n",
    "\n",
    "\n",
    "# Create another edge array with different sort\n",
    "edges_2 = [d_e.get(i) for i in sorted(d_e.keys(), key=lambda x: (x[2], x[4]))]\n",
    "\n",
    "# Create another edge array for constraint 4 \n",
    "edges_3 = [d_e.get(i) for i in sorted(d_e.keys(), key=lambda x: (x[2], x[6]))]\n",
    "\n",
    "# Check\n",
    "len(edges_1) == comb(n,2)*K"
   ]
  },
  {
   "cell_type": "code",
   "execution_count": 19,
   "metadata": {
    "hidden": true
   },
   "outputs": [
    {
     "data": {
      "text/plain": [
       "True"
      ]
     },
     "execution_count": 19,
     "metadata": {},
     "output_type": "execute_result"
    }
   ],
   "source": [
    "# vertices \n",
    "d_v = {}\n",
    "for j in range(K):\n",
    "    for i in range(n):\n",
    "        d_v[\"v_{0}_{1}\".format(i,j)] = LpVariable(\"v_{0}_{1}\".format(i,j), cat=\"Binary\")\n",
    "vertices_1 = list(d_v.values())\n",
    "\n",
    "# Create another edge array with different sort\n",
    "vertices_2 = [d_v.get(i) for i in sorted(d_v.keys(), key=lambda x: x[2])]\n",
    "\n",
    "# Check\n",
    "len(vertices_1) == n*K"
   ]
  },
  {
   "cell_type": "code",
   "execution_count": null,
   "metadata": {
    "hidden": true
   },
   "outputs": [],
   "source": []
  },
  {
   "cell_type": "code",
   "execution_count": 20,
   "metadata": {
    "hidden": true
   },
   "outputs": [
    {
     "name": "stdout",
     "output_type": "stream",
     "text": [
      "True\n"
     ]
    }
   ],
   "source": [
    "# Linearization of quadratic variables 1 \n",
    "v_list = np.array(np.array_split(vertices_1, 3)).tolist()\n",
    "v_big = []\n",
    "for i in range(K):\n",
    "    j = 0\n",
    "    while j != n:\n",
    "        for _ in range(j,9):\n",
    "            v_big.append(v_list[i][j])\n",
    "        j += 1\n",
    "        \n",
    "print(len(edges_1) == len(v_big))"
   ]
  },
  {
   "cell_type": "code",
   "execution_count": 21,
   "metadata": {
    "hidden": true
   },
   "outputs": [
    {
     "name": "stdout",
     "output_type": "stream",
     "text": [
      "True\n"
     ]
    }
   ],
   "source": [
    "# Linearization of quadratic variables 2\n",
    "v_list_2 = [i[1:] for i in v_list]\n",
    "v_big_2 = []\n",
    "for h in range(K):\n",
    "    j = 0\n",
    "    while j != n:\n",
    "        for i in range(j,n-1):\n",
    "            v_big_2.append(v_list_2[h][i])\n",
    "        j += 1\n",
    "        i = j\n",
    "print(len(edges_1) == len(v_big_2))"
   ]
  },
  {
   "cell_type": "markdown",
   "metadata": {
    "hidden": true
   },
   "source": [
    "## Solver "
   ]
  },
  {
   "cell_type": "code",
   "execution_count": 22,
   "metadata": {
    "hidden": true
   },
   "outputs": [],
   "source": [
    "# Objective function \n",
    "prob += sum(edges_1[i] * happiness[i] for i in range(len(happiness)))"
   ]
  },
  {
   "cell_type": "code",
   "execution_count": 23,
   "metadata": {
    "hidden": true
   },
   "outputs": [],
   "source": [
    "# # Not sure if we need this constraint now \n",
    "# # Constraint 1 \n",
    "# constraint_2 = [sum(edges_1[i:i + K]) for i in range(0, len(edges_1), K)]\n",
    "# for i in range(len(constraint_3)):\n",
    "#     prob += constraint_2[i] == 1"
   ]
  },
  {
   "cell_type": "code",
   "execution_count": 24,
   "metadata": {
    "hidden": true
   },
   "outputs": [],
   "source": [
    "# Constraint 2\n",
    "# Each rooms has sadness levels <= s_max / K \n",
    "aa = []\n",
    "h = 0\n",
    "for i in range(K):\n",
    "    for j in range(comb(n,2)):\n",
    "        aa.append(edges_1[h] * sadness_1[j])\n",
    "        h += 1\n",
    "\n",
    "constraint_2 = [sum(aa[i:i+ comb(n,2)]) for i in range(0, len(aa), comb(n,2))]\n",
    "for i in range(len(constraint_2)):\n",
    "    prob += constraint_2[i] <= s_max / K"
   ]
  },
  {
   "cell_type": "code",
   "execution_count": null,
   "metadata": {
    "hidden": true
   },
   "outputs": [],
   "source": []
  },
  {
   "cell_type": "code",
   "execution_count": 25,
   "metadata": {
    "hidden": true,
    "scrolled": true
   },
   "outputs": [],
   "source": [
    "# Constraint 3\n",
    "# Each person belongs to only one room\n",
    "constraint_3 = [sum(vertices_2[i:i + K]) for i in range(0, len(vertices_2), K)]\n",
    "for i in range(len(constraint_3)):\n",
    "    prob += constraint_3[i] == 1"
   ]
  },
  {
   "cell_type": "code",
   "execution_count": 26,
   "metadata": {
    "hidden": true
   },
   "outputs": [],
   "source": [
    "# Linearization of quadratic variables\n",
    "# Constraint 4.1\n",
    "\n",
    "for i in range(len(edges_1)):\n",
    "    prob += edges_1[i] <= v_big[i]\n",
    "    \n",
    "# Constraint 4.2\n",
    "for i in range(len(edges_1)):\n",
    "    prob += edges_1[i] <= v_big_2[i]\n",
    "\n",
    "\n",
    "# Constraint 4.3\n",
    "for i in range(len(edges_1)):\n",
    "    prob += edges_1[i] >= v_big[i] + v_big_2[i] - 1 \n",
    "    \n",
    "# # Constraint 4'\n",
    "# for i in range(len(edges_1)):\n",
    "#     prob += edges_1[i] == v_big[i] * v_big_2[i]"
   ]
  },
  {
   "cell_type": "code",
   "execution_count": 27,
   "metadata": {
    "hidden": true
   },
   "outputs": [],
   "source": [
    "path = \"/Users/smeetpatel/Library/gurobi.lic\"\n",
    "solver = GUROBI_CMD(path)"
   ]
  },
  {
   "cell_type": "code",
   "execution_count": null,
   "metadata": {
    "hidden": true,
    "scrolled": true
   },
   "outputs": [],
   "source": []
  },
  {
   "cell_type": "code",
   "execution_count": 28,
   "metadata": {
    "hidden": true,
    "jupyter": {
     "outputs_hidden": true
    }
   },
   "outputs": [
    {
     "name": "stdout",
     "output_type": "stream",
     "text": [
      "e_0_1_0 = 0.0\n",
      "e_0_1_1 = 0.0\n",
      "e_0_1_2 = 0.0\n",
      "e_0_2_0 = 0.0\n",
      "e_0_2_1 = 1.0\n",
      "e_0_2_2 = 0.0\n",
      "e_0_3_0 = 0.0\n",
      "e_0_3_1 = 0.0\n",
      "e_0_3_2 = 0.0\n",
      "e_0_4_0 = 0.0\n",
      "e_0_4_1 = 0.0\n",
      "e_0_4_2 = 0.0\n",
      "e_0_5_0 = 0.0\n",
      "e_0_5_1 = 1.0\n",
      "e_0_5_2 = 0.0\n",
      "e_0_6_0 = 0.0\n",
      "e_0_6_1 = 0.0\n",
      "e_0_6_2 = 0.0\n",
      "e_0_7_0 = 0.0\n",
      "e_0_7_1 = 0.0\n",
      "e_0_7_2 = 0.0\n",
      "e_0_8_0 = 0.0\n",
      "e_0_8_1 = 0.0\n",
      "e_0_8_2 = 0.0\n",
      "e_0_9_0 = 0.0\n",
      "e_0_9_1 = 0.0\n",
      "e_0_9_2 = 0.0\n",
      "e_1_2_0 = 0.0\n",
      "e_1_2_1 = 0.0\n",
      "e_1_2_2 = 0.0\n",
      "e_1_3_0 = 0.0\n",
      "e_1_3_1 = 0.0\n",
      "e_1_3_2 = 0.0\n",
      "e_1_4_0 = 0.0\n",
      "e_1_4_1 = 0.0\n",
      "e_1_4_2 = 0.0\n",
      "e_1_5_0 = 0.0\n",
      "e_1_5_1 = 0.0\n",
      "e_1_5_2 = 0.0\n",
      "e_1_6_0 = 0.0\n",
      "e_1_6_1 = 0.0\n",
      "e_1_6_2 = 0.0\n",
      "e_1_7_0 = 0.0\n",
      "e_1_7_1 = 0.0\n",
      "e_1_7_2 = 1.0\n",
      "e_1_8_0 = 0.0\n",
      "e_1_8_1 = 0.0\n",
      "e_1_8_2 = 0.0\n",
      "e_1_9_0 = 0.0\n",
      "e_1_9_1 = 0.0\n",
      "e_1_9_2 = 1.0\n",
      "e_2_3_0 = 0.0\n",
      "e_2_3_1 = 0.0\n",
      "e_2_3_2 = 0.0\n",
      "e_2_4_0 = 0.0\n",
      "e_2_4_1 = 0.0\n",
      "e_2_4_2 = 0.0\n",
      "e_2_5_0 = 0.0\n",
      "e_2_5_1 = 1.0\n",
      "e_2_5_2 = 0.0\n",
      "e_2_6_0 = 0.0\n",
      "e_2_6_1 = 0.0\n",
      "e_2_6_2 = 0.0\n",
      "e_2_7_0 = 0.0\n",
      "e_2_7_1 = 0.0\n",
      "e_2_7_2 = 0.0\n",
      "e_2_8_0 = 0.0\n",
      "e_2_8_1 = 0.0\n",
      "e_2_8_2 = 0.0\n",
      "e_2_9_0 = 0.0\n",
      "e_2_9_1 = 0.0\n",
      "e_2_9_2 = 0.0\n",
      "e_3_4_0 = 1.0\n",
      "e_3_4_1 = 0.0\n",
      "e_3_4_2 = 0.0\n",
      "e_3_5_0 = 0.0\n",
      "e_3_5_1 = 0.0\n",
      "e_3_5_2 = 0.0\n",
      "e_3_6_0 = 1.0\n",
      "e_3_6_1 = 0.0\n",
      "e_3_6_2 = 0.0\n",
      "e_3_7_0 = 0.0\n",
      "e_3_7_1 = 0.0\n",
      "e_3_7_2 = 0.0\n",
      "e_3_8_0 = 1.0\n",
      "e_3_8_1 = 0.0\n",
      "e_3_8_2 = 0.0\n",
      "e_3_9_0 = 0.0\n",
      "e_3_9_1 = 0.0\n",
      "e_3_9_2 = 0.0\n",
      "e_4_5_0 = 0.0\n",
      "e_4_5_1 = 0.0\n",
      "e_4_5_2 = 0.0\n",
      "e_4_6_0 = 1.0\n",
      "e_4_6_1 = 0.0\n",
      "e_4_6_2 = 0.0\n",
      "e_4_7_0 = 0.0\n",
      "e_4_7_1 = 0.0\n",
      "e_4_7_2 = 0.0\n",
      "e_4_8_0 = 1.0\n",
      "e_4_8_1 = 0.0\n",
      "e_4_8_2 = 0.0\n",
      "e_4_9_0 = 0.0\n",
      "e_4_9_1 = 0.0\n",
      "e_4_9_2 = 0.0\n",
      "e_5_6_0 = 0.0\n",
      "e_5_6_1 = 0.0\n",
      "e_5_6_2 = 0.0\n",
      "e_5_7_0 = 0.0\n",
      "e_5_7_1 = 0.0\n",
      "e_5_7_2 = 0.0\n",
      "e_5_8_0 = 0.0\n",
      "e_5_8_1 = 0.0\n",
      "e_5_8_2 = 0.0\n",
      "e_5_9_0 = 0.0\n",
      "e_5_9_1 = 0.0\n",
      "e_5_9_2 = 0.0\n",
      "e_6_7_0 = 0.0\n",
      "e_6_7_1 = 0.0\n",
      "e_6_7_2 = 0.0\n",
      "e_6_8_0 = 1.0\n",
      "e_6_8_1 = 0.0\n",
      "e_6_8_2 = 0.0\n",
      "e_6_9_0 = 0.0\n",
      "e_6_9_1 = 0.0\n",
      "e_6_9_2 = 0.0\n",
      "e_7_8_0 = 0.0\n",
      "e_7_8_1 = 0.0\n",
      "e_7_8_2 = 0.0\n",
      "e_7_9_0 = 0.0\n",
      "e_7_9_1 = 0.0\n",
      "e_7_9_2 = 1.0\n",
      "e_8_9_0 = 0.0\n",
      "e_8_9_1 = 0.0\n",
      "e_8_9_2 = 0.0\n",
      "v_0_0 = 0.0\n",
      "v_0_1 = 1.0\n",
      "v_0_2 = 0.0\n",
      "v_1_0 = 0.0\n",
      "v_1_1 = 0.0\n",
      "v_1_2 = 1.0\n",
      "v_2_0 = 0.0\n",
      "v_2_1 = 1.0\n",
      "v_2_2 = 0.0\n",
      "v_3_0 = 1.0\n",
      "v_3_1 = 0.0\n",
      "v_3_2 = 0.0\n",
      "v_4_0 = 1.0\n",
      "v_4_1 = 0.0\n",
      "v_4_2 = 0.0\n",
      "v_5_0 = 0.0\n",
      "v_5_1 = 1.0\n",
      "v_5_2 = 0.0\n",
      "v_6_0 = 1.0\n",
      "v_6_1 = 0.0\n",
      "v_6_2 = 0.0\n",
      "v_7_0 = 0.0\n",
      "v_7_1 = 0.0\n",
      "v_7_2 = 1.0\n",
      "v_8_0 = 1.0\n",
      "v_8_1 = 0.0\n",
      "v_8_2 = 0.0\n",
      "v_9_0 = 0.0\n",
      "v_9_1 = 0.0\n",
      "v_9_2 = 1.0\n"
     ]
    }
   ],
   "source": [
    "prob.solve(solver)\n",
    "for v in prob.variables():\n",
    "    print(v.name, \"=\", v.varValue)"
   ]
  },
  {
   "cell_type": "markdown",
   "metadata": {},
   "source": [
    "# Gurobi Infra "
   ]
  },
  {
   "cell_type": "code",
   "execution_count": 86,
   "metadata": {},
   "outputs": [],
   "source": [
    "sample_input = pd.read_csv(\"textgen/test10.txt\", header = None)\n",
    "n = int(list(sample_input[0])[0])\n",
    "s_max = float(list(sample_input[0])[1])\n",
    "K = 4"
   ]
  },
  {
   "cell_type": "code",
   "execution_count": 87,
   "metadata": {},
   "outputs": [],
   "source": [
    "# Parsing input data \n",
    "df = sample_input\n",
    "df = pd.DataFrame([x.split() for x in df[0].tolist() ])\n",
    "df = df.loc[2:,:]\n",
    "df[\"i\"] = df.loc[:,0]\n",
    "df[\"j\"] = df.loc[:,1]\n",
    "df[\"sadness\"] = df.loc[:,3]\n",
    "df[\"happiness\"] = df.loc[:,2]\n",
    "df = df[[\"i\", \"j\", \"sadness\", \"happiness\"]]"
   ]
  },
  {
   "cell_type": "code",
   "execution_count": 102,
   "metadata": {},
   "outputs": [
    {
     "data": {
      "text/plain": [
       "True"
      ]
     },
     "execution_count": 102,
     "metadata": {},
     "output_type": "execute_result"
    }
   ],
   "source": [
    "# i_id = [int(i) for i in list(df[\"i\"])]\n",
    "j_id = [int(i) for i in list(df[\"j\"])]\n",
    "sadness = [float(i) for i in list(df[\"sadness\"])]*K\n",
    "happiness = [float(i) for i in list(df[\"happiness\"])]*K\n",
    "\n",
    "sadness_1 = [float(i) for i in list(df[\"sadness\"])]\n",
    "happiness_1 = [float(i) for i in list(df[\"happiness\"])]\n",
    "len(sadness) == len(happiness)"
   ]
  },
  {
   "cell_type": "code",
   "execution_count": 89,
   "metadata": {},
   "outputs": [],
   "source": [
    "m = gp.Model(\"proj\")"
   ]
  },
  {
   "cell_type": "code",
   "execution_count": 90,
   "metadata": {},
   "outputs": [],
   "source": [
    "d_e = {}\n",
    "for k in range(K):\n",
    "    for i in range(comb(n,2)):\n",
    "        d_e[\"e_{0}_{1}_{2}\".format(i_id[i],j_id[i],k)] = m.addVar(name= \"e_{0}_{1}_{2}\".format(i_id[i],j_id[i],k), vtype = GRB.BINARY)\n",
    "edges_1 = list(d_e.values())"
   ]
  },
  {
   "cell_type": "code",
   "execution_count": 91,
   "metadata": {},
   "outputs": [
    {
     "data": {
      "text/plain": [
       "True"
      ]
     },
     "execution_count": 91,
     "metadata": {},
     "output_type": "execute_result"
    }
   ],
   "source": [
    "# Create another edge array with different sort\n",
    "edges_2 = [d_e.get(i) for i in sorted(d_e.keys(), key=lambda x: (x[2], x[4]))]\n",
    "\n",
    "# Create another edge array for constraint 4 \n",
    "edges_3 = [d_e.get(i) for i in sorted(d_e.keys(), key=lambda x: (x[2], x[6]))]\n",
    "\n",
    "# Check\n",
    "len(edges_1) == comb(n,2)*K"
   ]
  },
  {
   "cell_type": "code",
   "execution_count": 92,
   "metadata": {},
   "outputs": [
    {
     "data": {
      "text/plain": [
       "True"
      ]
     },
     "execution_count": 92,
     "metadata": {},
     "output_type": "execute_result"
    }
   ],
   "source": [
    "# vertices \n",
    "d_v = {}\n",
    "for j in range(K):\n",
    "    for i in range(n):\n",
    "        d_v[\"v_{0}_{1}\".format(i,j)] = m.addVar(name = \"v_{0}_{1}\".format(i,j),  vtype = GRB.BINARY)\n",
    "vertices_1 = list(d_v.values())\n",
    "\n",
    "# Create another edge array with different sort\n",
    "vertices_2 = [d_v.get(i) for i in sorted(d_v.keys(), key=lambda x: x[2])]\n",
    "\n",
    "# Check\n",
    "len(vertices_1) == n*K"
   ]
  },
  {
   "cell_type": "code",
   "execution_count": 93,
   "metadata": {},
   "outputs": [
    {
     "name": "stdout",
     "output_type": "stream",
     "text": [
      "True\n"
     ]
    }
   ],
   "source": [
    "# Linearization of quadratic variables 1 \n",
    "v_list = np.array(np.array_split(vertices_1, K)).tolist()\n",
    "v_big = []\n",
    "for i in range(K):\n",
    "    j = 0\n",
    "    while j != n:\n",
    "        for _ in range(j,n-1):\n",
    "            v_big.append(v_list[i][j])\n",
    "        j += 1\n",
    "        \n",
    "print(len(edges_1) == len(v_big))"
   ]
  },
  {
   "cell_type": "code",
   "execution_count": 94,
   "metadata": {},
   "outputs": [
    {
     "name": "stdout",
     "output_type": "stream",
     "text": [
      "True\n"
     ]
    }
   ],
   "source": [
    "# Linearization of quadratic variables 2\n",
    "v_list_2 = [i[1:] for i in v_list]\n",
    "v_big_2 = []\n",
    "for h in range(K):\n",
    "    j = 0\n",
    "    while j != n:\n",
    "        for i in range(j,n-1):\n",
    "            v_big_2.append(v_list_2[h][i])\n",
    "        j += 1\n",
    "        i = j\n",
    "print(len(edges_1) == len(v_big_2))"
   ]
  },
  {
   "cell_type": "code",
   "execution_count": 95,
   "metadata": {},
   "outputs": [],
   "source": [
    "m.setObjective(sum(edges_1[i] * happiness[i] for i in range(len(happiness))), GRB.MAXIMIZE)"
   ]
  },
  {
   "cell_type": "code",
   "execution_count": 96,
   "metadata": {},
   "outputs": [],
   "source": [
    "# # Not sure if we need this constraint now \n",
    "# # Constraint 1 \n",
    "# constraint_2 = [sum(edges_1[i:i + K]) for i in range(0, len(edges_1), K)]\n",
    "# for i in range(len(constraint_3)):\n",
    "#     m.addConstr(constraint_2[i] == 1)"
   ]
  },
  {
   "cell_type": "code",
   "execution_count": 97,
   "metadata": {},
   "outputs": [],
   "source": [
    "aa = []\n",
    "h = 0\n",
    "for i in range(K):\n",
    "    for j in range(comb(n,2)):\n",
    "        aa.append(edges_1[h] * sadness_1[j])\n",
    "        h += 1\n",
    "\n",
    "constraint_2 = [sum(aa[i:i+ comb(n,2)]) for i in range(0, len(aa), comb(n,2))]\n",
    "for i in range(len(constraint_2)):\n",
    "    m.addConstr(constraint_2[i] <=  s_max / K)"
   ]
  },
  {
   "cell_type": "code",
   "execution_count": 98,
   "metadata": {},
   "outputs": [],
   "source": [
    "constraint_3 = [sum(vertices_2[i:i + K]) for i in range(0, len(vertices_2), K)]\n",
    "for i in range(len(constraint_3)):\n",
    "    m.addConstr(constraint_3[i] == 1)"
   ]
  },
  {
   "cell_type": "code",
   "execution_count": 99,
   "metadata": {},
   "outputs": [],
   "source": [
    "for i in range(len(edges_1)):\n",
    "     m.addConstr(edges_1[i] <= v_big[i])\n",
    "    \n",
    "# Constraint 4.2\n",
    "for i in range(len(edges_1)):\n",
    "     m.addConstr(edges_1[i] <= v_big_2[i])\n",
    "\n",
    "\n",
    "# Constraint 4.3\n",
    "for i in range(len(edges_1)):\n",
    "    m.addConstr(edges_1[i] >= v_big[i] + v_big_2[i] - 1)\n",
    "\n",
    "# # Constraint 4'\n",
    "# for i in range(len(edges_1)):\n",
    "#     m.addConstr(edges_1[i] == v_big[i] * v_big_2[i])"
   ]
  },
  {
   "cell_type": "code",
   "execution_count": 100,
   "metadata": {},
   "outputs": [
    {
     "name": "stdout",
     "output_type": "stream",
     "text": [
      "Gurobi Optimizer version 9.1.0 build v9.1.0rc0 (mac64)\n",
      "Thread count: 2 physical cores, 4 logical processors, using up to 4 threads\n",
      "Optimize a model with 554 rows, 220 columns and 1480 nonzeros\n",
      "Model fingerprint: 0xac588b40\n",
      "Variable types: 0 continuous, 220 integer (220 binary)\n",
      "Coefficient statistics:\n",
      "  Matrix range     [1e+00, 1e+02]\n",
      "  Objective range  [5e+00, 1e+02]\n",
      "  Bounds range     [1e+00, 1e+00]\n",
      "  RHS range        [1e+00, 2e+01]\n",
      "Presolve removed 400 rows and 124 columns\n",
      "Presolve time: 0.01s\n",
      "Presolved: 154 rows, 96 columns, 592 nonzeros\n",
      "Variable types: 0 continuous, 96 integer (96 binary)\n",
      "\n",
      "Root relaxation: infeasible, 60 iterations, 0.00 seconds\n",
      "\n",
      "    Nodes    |    Current Node    |     Objective Bounds      |     Work\n",
      " Expl Unexpl |  Obj  Depth IntInf | Incumbent    BestBd   Gap | It/Node Time\n",
      "\n",
      "     0     0 infeasible    0               - infeasible      -     -    0s\n",
      "\n",
      "Explored 0 nodes (60 simplex iterations) in 0.08 seconds\n",
      "Thread count was 4 (of 4 available processors)\n",
      "\n",
      "Solution count 0\n",
      "No other solutions better than -1e+100\n",
      "\n",
      "Model is infeasible\n",
      "Best objective -, best bound -, gap -\n"
     ]
    }
   ],
   "source": [
    "m.optimize()"
   ]
  },
  {
   "cell_type": "code",
   "execution_count": 101,
   "metadata": {},
   "outputs": [
    {
     "ename": "AttributeError",
     "evalue": "Unable to retrieve attribute 'x'",
     "output_type": "error",
     "traceback": [
      "\u001b[0;31m---------------------------------------------------------------------------\u001b[0m",
      "\u001b[0;31mAttributeError\u001b[0m                            Traceback (most recent call last)",
      "\u001b[0;32m<ipython-input-101-09b65b14ec37>\u001b[0m in \u001b[0;36m<module>\u001b[0;34m\u001b[0m\n\u001b[1;32m      1\u001b[0m \u001b[0;32mfor\u001b[0m \u001b[0mv\u001b[0m \u001b[0;32min\u001b[0m \u001b[0mm\u001b[0m\u001b[0;34m.\u001b[0m\u001b[0mgetVars\u001b[0m\u001b[0;34m(\u001b[0m\u001b[0;34m)\u001b[0m\u001b[0;34m:\u001b[0m\u001b[0;34m\u001b[0m\u001b[0;34m\u001b[0m\u001b[0m\n\u001b[0;32m----> 2\u001b[0;31m     \u001b[0mprint\u001b[0m\u001b[0;34m(\u001b[0m\u001b[0;34m(\u001b[0m\u001b[0mv\u001b[0m\u001b[0;34m.\u001b[0m\u001b[0mvarName\u001b[0m \u001b[0;34m,\u001b[0m \u001b[0mv\u001b[0m\u001b[0;34m.\u001b[0m\u001b[0mx\u001b[0m\u001b[0;34m)\u001b[0m\u001b[0;34m)\u001b[0m\u001b[0;34m\u001b[0m\u001b[0;34m\u001b[0m\u001b[0m\n\u001b[0m",
      "\u001b[0;32msrc/gurobipy/var.pxi\u001b[0m in \u001b[0;36mgurobipy.gurobipy.Var.__getattr__\u001b[0;34m()\u001b[0m\n",
      "\u001b[0;32msrc/gurobipy/var.pxi\u001b[0m in \u001b[0;36mgurobipy.gurobipy.Var.getAttr\u001b[0;34m()\u001b[0m\n",
      "\u001b[0;32msrc/gurobipy/attrutil.pxi\u001b[0m in \u001b[0;36mgurobipy.gurobipy.__getattr\u001b[0;34m()\u001b[0m\n",
      "\u001b[0;31mAttributeError\u001b[0m: Unable to retrieve attribute 'x'"
     ]
    }
   ],
   "source": [
    "for v in m.getVars():\n",
    "    print((v.varName , v.x))"
   ]
  },
  {
   "cell_type": "code",
   "execution_count": null,
   "metadata": {},
   "outputs": [],
   "source": []
  },
  {
   "cell_type": "code",
   "execution_count": null,
   "metadata": {},
   "outputs": [],
   "source": []
  }
 ],
 "metadata": {
  "kernelspec": {
   "display_name": "Python 3",
   "language": "python",
   "name": "python3"
  },
  "language_info": {
   "codemirror_mode": {
    "name": "ipython",
    "version": 3
   },
   "file_extension": ".py",
   "mimetype": "text/x-python",
   "name": "python",
   "nbconvert_exporter": "python",
   "pygments_lexer": "ipython3",
   "version": "3.9.0"
  },
  "latex_envs": {
   "LaTeX_envs_menu_present": true,
   "autoclose": true,
   "autocomplete": true,
   "bibliofile": "biblio.bib",
   "cite_by": "apalike",
   "current_citInitial": 1,
   "eqLabelWithNumbers": true,
   "eqNumInitial": 1,
   "hotkeys": {
    "equation": "Ctrl-E",
    "itemize": "Ctrl-I"
   },
   "labels_anchors": false,
   "latex_user_defs": false,
   "report_style_numbering": false,
   "user_envs_cfg": false
  },
  "toc": {
   "base_numbering": 1,
   "nav_menu": {},
   "number_sections": true,
   "sideBar": true,
   "skip_h1_title": false,
   "title_cell": "Table of Contents",
   "title_sidebar": "Contents",
   "toc_cell": false,
   "toc_position": {},
   "toc_section_display": true,
   "toc_window_display": false
  },
  "varInspector": {
   "cols": {
    "lenName": 16,
    "lenType": 16,
    "lenVar": 40
   },
   "kernels_config": {
    "python": {
     "delete_cmd_postfix": "",
     "delete_cmd_prefix": "del ",
     "library": "var_list.py",
     "varRefreshCmd": "print(var_dic_list())"
    },
    "r": {
     "delete_cmd_postfix": ") ",
     "delete_cmd_prefix": "rm(",
     "library": "var_list.r",
     "varRefreshCmd": "cat(var_dic_list()) "
    }
   },
   "types_to_exclude": [
    "module",
    "function",
    "builtin_function_or_method",
    "instance",
    "_Feature"
   ],
   "window_display": false
  }
 },
 "nbformat": 4,
 "nbformat_minor": 4
}
