{
 "cells": [
  {
   "cell_type": "markdown",
   "metadata": {
    "heading_collapsed": true
   },
   "source": [
    "# Experimentation"
   ]
  },
  {
   "cell_type": "code",
   "execution_count": 251,
   "metadata": {
    "hidden": true
   },
   "outputs": [],
   "source": [
    "%matplotlib inline\n",
    "import matplotlib.pyplot as plt\n",
    "import numpy as np \n",
    "import pandas as pd\n",
    "import networkx as nx\n",
    "from parse import *\n",
    "from utils  import *\n",
    "from pulp import *\n",
    "from math import comb\n",
    "import gurobipy as gp\n",
    "from gurobipy import GRB"
   ]
  },
  {
   "cell_type": "code",
   "execution_count": 252,
   "metadata": {
    "hidden": true
   },
   "outputs": [],
   "source": [
    "sample_input = pd.read_csv(\"samples/10.in\", header = None)\n",
    "sample_output = np.array(pd.read_csv(\"samples/10.out\", header = None))"
   ]
  },
  {
   "cell_type": "code",
   "execution_count": 253,
   "metadata": {
    "hidden": true
   },
   "outputs": [],
   "source": [
    "graph, budget = read_input_file(\"samples/10.in\")"
   ]
  },
  {
   "cell_type": "code",
   "execution_count": 254,
   "metadata": {
    "hidden": true
   },
   "outputs": [],
   "source": [
    "pos = nx.kamada_kawai_layout(graph)  # positions for all nodes\n",
    "# nx.draw(graph, pos, with_labels=True)"
   ]
  },
  {
   "cell_type": "code",
   "execution_count": 255,
   "metadata": {
    "hidden": true
   },
   "outputs": [],
   "source": [
    "# prob = LpProblem(\"proj\",LpMaximize)"
   ]
  },
  {
   "cell_type": "code",
   "execution_count": 256,
   "metadata": {
    "hidden": true
   },
   "outputs": [],
   "source": [
    "# # edges \n",
    "# # Add diagonal variables such that (1,1) have 0 happiness and sadness\n",
    "# edges = np.array([\"e01\",\"e02\",\"e03\",\"e12\",\"e13\",\"e23\"])\n",
    "# weights = [9.2, 5.4, 2.123, 75.4,18,87]*3\n",
    "# sad = [3,40.8,98,8,57.904,9.4]*3\n",
    "# d = {}\n",
    "# for j in range(3):\n",
    "#     for i in edges:\n",
    "#         d[\"{0}_{1}\".format(i,j)] = LpVariable(\"{0}_{1}\".format(i,j), lowBound = 0, upBound=1, cat=\"Integer\")\n",
    "# edges = list(d.values())\n",
    "# # e11 = LpVariable(\"{0}_{1}\".format(i,j), lowBound = 0, upBound=1, cat=\"Integer\")\n",
    "# # e22 = LpVariable(\"{0}_{1}\".format(i,j), lowBound = 0, upBound=1, cat=\"Integer\")\n",
    "# # e33 = LpVariable(\"{0}_{1}\".format(i,j), lowBound = 0, upBound=1, cat=\"Integer\")"
   ]
  },
  {
   "cell_type": "code",
   "execution_count": 257,
   "metadata": {
    "hidden": true
   },
   "outputs": [],
   "source": [
    "# # vertices \n",
    "# vertices = [\"v0\", \"v1\", \"v2\", \"v3\"]\n",
    "# d = {}\n",
    "# for j in range(3):\n",
    "#     for i in vertices:\n",
    "#         d[\"{0}_{1}\".format(i,j)] = LpVariable(\"{0}_{1}\".format(i,j), lowBound = 0, cat=\"Integer\")\n",
    "# vertices = list(d.values())\n",
    "# vertices"
   ]
  },
  {
   "cell_type": "code",
   "execution_count": 258,
   "metadata": {
    "hidden": true
   },
   "outputs": [],
   "source": [
    "# prob += sum(edges[i] * weights[i] for i in range(len(weights)))"
   ]
  },
  {
   "cell_type": "code",
   "execution_count": 259,
   "metadata": {
    "hidden": true
   },
   "outputs": [],
   "source": [
    "# prob += sum(edges[i] for i in [0,6,12]) == 1\n",
    "# prob += sum(edges[i] for i in [1,7,13]) == 1\n",
    "# prob += sum(edges[i] for i in [2,8,14]) == 1\n",
    "# prob += sum(edges[i] for i in [3,9,15]) == 1\n",
    "# prob += sum(edges[i] for i in [4,10,16]) == 1\n",
    "# prob += sum(edges[i] for i in [5,11,17]) == 1"
   ]
  },
  {
   "cell_type": "code",
   "execution_count": 260,
   "metadata": {
    "hidden": true
   },
   "outputs": [],
   "source": [
    "# prob += sum(edges[i] * sad[i] for i in range(6)) <= 42.314/3\n",
    "# prob += sum(edges[i] * sad[i] for i in range(6,12)) <= 42.314/3\n",
    "# prob += sum(edges[i] * sad[i] for i in range(12,18)) <= 42.314/3\n",
    "\n",
    "# prob += sum(vertices[i] for i in [0,4,8]) == 1 \n",
    "# prob += sum(vertices[i] for i in [1,5,9]) == 1\n",
    "# prob += sum(vertices[i] for i in [2,6,10]) == 1\n",
    "# prob += sum(vertices[i] for i in [3,7,11]) == 1\n",
    "\n",
    "\n",
    "# # Linearization of quadratic variables (eijk =vik * vjk)"
   ]
  },
  {
   "cell_type": "code",
   "execution_count": 261,
   "metadata": {
    "hidden": true
   },
   "outputs": [],
   "source": [
    "# prob"
   ]
  },
  {
   "cell_type": "code",
   "execution_count": 262,
   "metadata": {
    "hidden": true
   },
   "outputs": [],
   "source": [
    "# prob.solve()\n",
    "# for v in prob.variables():\n",
    "#     print(v.name, \"=\", v.varValue)"
   ]
  },
  {
   "cell_type": "markdown",
   "metadata": {},
   "source": [
    "# Scale  "
   ]
  },
  {
   "cell_type": "markdown",
   "metadata": {},
   "source": [
    "Assumptions \n",
    "- Rooms with individuals are usually not optimal and hence are not considered in the model\n",
    "- We have a good heuristic for choosing the number of rooms"
   ]
  },
  {
   "cell_type": "markdown",
   "metadata": {
    "deletable": false,
    "editable": false,
    "run_control": {
     "frozen": true
    }
   },
   "source": [
    "<!-- - Either $e_{i,i} = 1$ or $e_{i,j} = 1, \\ \\ \\ \\exists j$ -->\n",
    "- Pick R arbitrarily \n",
    "    - Work on heuristics later\n",
    "<!-- - Add $e_{i,i} \\forall \\ \\ i$ -->\n",
    "- Create k * (n choose 2) variables representing each pair and its class i.e,  e_i,j,k  for $k \\in \\{2, n-1\\}$\n",
    "- Objective $max\\{\\sum e_{i,j,k}*h_{i,j}\\}$ \n",
    "\n",
    "- Constraints\n",
    "    - $\\sum_{k = 1}^{K} e_{i,j,k} = 1  \\ \\ \\ \\ \\forall (i,j)$\n",
    "    - If $(i,j) = 1 \\And \\ (i,h) = 1 \\implies (j,h) = 1$\n",
    "         - In LP notation: \n",
    "    - $\\sum_{(i,j)} s_{i,j}e_{i,j,k} \\leq \\frac{S_{max}}{K} \\ \\ \\ \\forall k \\in K$ "
   ]
  },
  {
   "cell_type": "markdown",
   "metadata": {},
   "source": [
    "- Parse the inputs into H and S arrays representing happiness and sadness \n",
    "- Get K number of rooms (improve later)\n",
    "- Define edges and vertices as LpVariables \n",
    "    - Make them into two arrays, one sorted based on ids and another based on rooms (4 arrays in total)\n",
    "- Define constraints "
   ]
  },
  {
   "cell_type": "code",
   "execution_count": 263,
   "metadata": {},
   "outputs": [],
   "source": [
    "sample_input = pd.read_csv(\"samples/10.in\", header = None)\n",
    "n = int(list(sample_input[0])[0])\n",
    "s_max = float(list(sample_input[0])[1])\n",
    "K = 3"
   ]
  },
  {
   "cell_type": "code",
   "execution_count": 264,
   "metadata": {},
   "outputs": [],
   "source": [
    "# Parsing input data \n",
    "df = sample_input\n",
    "df = pd.DataFrame([x.split() for x in df[0].tolist() ])\n",
    "df = df.loc[2:,:]\n",
    "df[\"i\"] = df.loc[:,0]\n",
    "df[\"j\"] = df.loc[:,1]\n",
    "df[\"sadness\"] = df.loc[:,3]\n",
    "df[\"happiness\"] = df.loc[:,2]\n",
    "df = df[[\"i\", \"j\", \"sadness\", \"happiness\"]]"
   ]
  },
  {
   "cell_type": "code",
   "execution_count": 265,
   "metadata": {},
   "outputs": [
    {
     "data": {
      "text/plain": [
       "True"
      ]
     },
     "execution_count": 265,
     "metadata": {},
     "output_type": "execute_result"
    }
   ],
   "source": [
    "i_id = [int(i) for i in list(df[\"i\"])]\n",
    "j_id = [int(i) for i in list(df[\"j\"])]\n",
    "sadness = [float(i) for i in list(df[\"sadness\"])]*K\n",
    "happiness = [float(i) for i in list(df[\"happiness\"])]*K\n",
    "\n",
    "sadness_1 = [float(i) for i in list(df[\"sadness\"])]\n",
    "happiness_1 = [float(i) for i in list(df[\"happiness\"])]\n",
    "len(sadness) == len(happiness)"
   ]
  },
  {
   "cell_type": "code",
   "execution_count": 266,
   "metadata": {},
   "outputs": [],
   "source": [
    "prob = LpProblem(\"solver\",LpMaximize)"
   ]
  },
  {
   "cell_type": "code",
   "execution_count": 267,
   "metadata": {},
   "outputs": [
    {
     "data": {
      "text/plain": [
       "True"
      ]
     },
     "execution_count": 267,
     "metadata": {},
     "output_type": "execute_result"
    }
   ],
   "source": [
    "# edges \n",
    "d_e = {}\n",
    "for k in range(K):\n",
    "    for i in range(comb(n,2)):\n",
    "        d_e[\"e_{0}_{1}_{2}\".format(i_id[i],j_id[i],k)] = LpVariable(\"e_{0}_{1}_{2}\".format(i_id[i],j_id[i],k), cat=\"Binary\")\n",
    "edges_1 = list(d_e.values())\n",
    "\n",
    "\n",
    "# Create another edge array with different sort\n",
    "edges_2 = [d_e.get(i) for i in sorted(d_e.keys(), key=lambda x: (x[2], x[4]))]\n",
    "\n",
    "# Create another edge array for constraint 4 \n",
    "edges_3 = [d_e.get(i) for i in sorted(d_e.keys(), key=lambda x: (x[2], x[6]))]\n",
    "\n",
    "# Check\n",
    "len(edges_1) == comb(n,2)*K"
   ]
  },
  {
   "cell_type": "code",
   "execution_count": 268,
   "metadata": {},
   "outputs": [
    {
     "data": {
      "text/plain": [
       "True"
      ]
     },
     "execution_count": 268,
     "metadata": {},
     "output_type": "execute_result"
    }
   ],
   "source": [
    "# vertices \n",
    "d_v = {}\n",
    "for j in range(K):\n",
    "    for i in range(n):\n",
    "        d_v[\"v_{0}_{1}\".format(i,j)] = LpVariable(\"v_{0}_{1}\".format(i,j), cat=\"Binary\")\n",
    "vertices_1 = list(d_v.values())\n",
    "\n",
    "# Create another edge array with different sort\n",
    "vertices_2 = [d_v.get(i) for i in sorted(d_v.keys(), key=lambda x: x[2])]\n",
    "\n",
    "# Check\n",
    "len(vertices_1) == n*K"
   ]
  },
  {
   "cell_type": "code",
   "execution_count": null,
   "metadata": {},
   "outputs": [],
   "source": []
  },
  {
   "cell_type": "code",
   "execution_count": 269,
   "metadata": {},
   "outputs": [
    {
     "name": "stdout",
     "output_type": "stream",
     "text": [
      "True\n"
     ]
    }
   ],
   "source": [
    "# Linearization of quadratic variables 1 \n",
    "v_list = np.array(np.array_split(vertices_1, K)).tolist()\n",
    "v_big = []\n",
    "for i in range(K):\n",
    "    j = 0\n",
    "    while j != n:\n",
    "        for _ in range(j,n-1):\n",
    "            v_big.append(v_list[i][j])\n",
    "        j += 1\n",
    "        \n",
    "print(len(edges_1) == len(v_big))"
   ]
  },
  {
   "cell_type": "code",
   "execution_count": 270,
   "metadata": {},
   "outputs": [
    {
     "name": "stdout",
     "output_type": "stream",
     "text": [
      "True\n"
     ]
    }
   ],
   "source": [
    "# Linearization of quadratic variables 2\n",
    "v_list_2 = [i[1:] for i in v_list]\n",
    "v_big_2 = []\n",
    "for h in range(K):\n",
    "    j = 0\n",
    "    while j != n:\n",
    "        for i in range(j,n-1):\n",
    "            v_big_2.append(v_list_2[h][i])\n",
    "        j += 1\n",
    "        i = j\n",
    "print(len(edges_1) == len(v_big_2))"
   ]
  },
  {
   "cell_type": "markdown",
   "metadata": {},
   "source": [
    "## Naive Solver "
   ]
  },
  {
   "cell_type": "code",
   "execution_count": null,
   "metadata": {},
   "outputs": [],
   "source": []
  },
  {
   "cell_type": "code",
   "execution_count": null,
   "metadata": {},
   "outputs": [],
   "source": []
  },
  {
   "cell_type": "code",
   "execution_count": 271,
   "metadata": {},
   "outputs": [],
   "source": [
    "# Objective function \n",
    "prob += sum(edges_1[i] * happiness[i] for i in range(len(happiness)))"
   ]
  },
  {
   "cell_type": "code",
   "execution_count": 272,
   "metadata": {},
   "outputs": [],
   "source": [
    "# # Not sure if we need this constraint now \n",
    "# # Constraint 1 \n",
    "# constraint_2 = [sum(edges_1[i:i + K]) for i in range(0, len(edges_1), K)]\n",
    "# for i in range(len(constraint_3)):\n",
    "#     prob += constraint_2[i] == 1"
   ]
  },
  {
   "cell_type": "code",
   "execution_count": 273,
   "metadata": {},
   "outputs": [],
   "source": [
    "# Constraint 2\n",
    "# Each rooms has sadness levels <= s_max / K \n",
    "aa = []\n",
    "h = 0\n",
    "for i in range(K):\n",
    "    for j in range(comb(n,2)):\n",
    "        aa.append(edges_1[h] * sadness_1[j])\n",
    "        h += 1\n",
    "\n",
    "constraint_2 = [sum(aa[i:i+ comb(n,2)]) for i in range(0, len(aa), comb(n,2))]\n",
    "for i in range(len(constraint_2)):\n",
    "    prob += constraint_2[i] <= s_max / K"
   ]
  },
  {
   "cell_type": "code",
   "execution_count": null,
   "metadata": {},
   "outputs": [],
   "source": []
  },
  {
   "cell_type": "code",
   "execution_count": 274,
   "metadata": {
    "scrolled": true
   },
   "outputs": [],
   "source": [
    "# Constraint 3\n",
    "# Each person belongs to only one room\n",
    "constraint_3 = [sum(vertices_2[i:i + K]) for i in range(0, len(vertices_2), K)]\n",
    "for i in range(len(constraint_3)):\n",
    "    prob += constraint_3[i] == 1"
   ]
  },
  {
   "cell_type": "code",
   "execution_count": 275,
   "metadata": {},
   "outputs": [],
   "source": [
    "# Linearization of quadratic variables\n",
    "# Constraint 4.1\n",
    "\n",
    "for i in range(len(edges_1)):\n",
    "    prob += edges_1[i] <= v_big[i]\n",
    "    \n",
    "# Constraint 4.2\n",
    "for i in range(len(edges_1)):\n",
    "    prob += edges_1[i] <= v_big_2[i]\n",
    "\n",
    "\n",
    "# Constraint 4.3\n",
    "for i in range(len(edges_1)):\n",
    "    prob += edges_1[i] >= v_big[i] + v_big_2[i] - 1 \n",
    "    \n",
    "# # Constraint 4'\n",
    "# for i in range(len(edges_1)):\n",
    "#     prob += edges_1[i] == v_big[i] * v_big_2[i]"
   ]
  },
  {
   "cell_type": "code",
   "execution_count": 276,
   "metadata": {},
   "outputs": [],
   "source": [
    "path = \"/Users/smeetpatel/Library/gurobi.lic\"\n",
    "solver = GUROBI_CMD(path)"
   ]
  },
  {
   "cell_type": "code",
   "execution_count": 277,
   "metadata": {
    "scrolled": true
   },
   "outputs": [
    {
     "data": {
      "text/plain": [
       "1"
      ]
     },
     "execution_count": 277,
     "metadata": {},
     "output_type": "execute_result"
    }
   ],
   "source": [
    "prob.solve(solver)"
   ]
  },
  {
   "cell_type": "code",
   "execution_count": 278,
   "metadata": {
    "jupyter": {
     "outputs_hidden": true
    }
   },
   "outputs": [
    {
     "name": "stdout",
     "output_type": "stream",
     "text": [
      "v_0_0 = 0.0\n",
      "v_0_1 = 1.0\n",
      "v_0_2 = 0.0\n",
      "v_1_0 = 0.0\n",
      "v_1_1 = 0.0\n",
      "v_1_2 = 1.0\n",
      "v_2_0 = 0.0\n",
      "v_2_1 = 1.0\n",
      "v_2_2 = 0.0\n",
      "v_3_0 = 1.0\n",
      "v_3_1 = 0.0\n",
      "v_3_2 = 0.0\n",
      "v_4_0 = 1.0\n",
      "v_4_1 = 0.0\n",
      "v_4_2 = 0.0\n",
      "v_5_0 = 0.0\n",
      "v_5_1 = 1.0\n",
      "v_5_2 = 0.0\n",
      "v_6_0 = 1.0\n",
      "v_6_1 = 0.0\n",
      "v_6_2 = 0.0\n",
      "v_7_0 = 0.0\n",
      "v_7_1 = 0.0\n",
      "v_7_2 = 1.0\n",
      "v_8_0 = 1.0\n",
      "v_8_1 = 0.0\n",
      "v_8_2 = 0.0\n",
      "v_9_0 = 0.0\n",
      "v_9_1 = 0.0\n",
      "v_9_2 = 1.0\n"
     ]
    }
   ],
   "source": [
    "for v in prob.variables()[len(prob.variables()) - n*K : len(prob.variables())]:\n",
    "    print(v.name, \"=\", v.varValue)"
   ]
  },
  {
   "cell_type": "code",
   "execution_count": 279,
   "metadata": {},
   "outputs": [
    {
     "data": {
      "text/plain": [
       "75.0"
      ]
     },
     "execution_count": 279,
     "metadata": {},
     "output_type": "execute_result"
    }
   ],
   "source": [
    "pairs = prob.variables()[0: len(prob.variables()) - n*K]\n",
    "people_values = [v.varValue for v in pairs] \n",
    "np.sum(np.multiply(people_values, happiness))"
   ]
  },
  {
   "cell_type": "code",
   "execution_count": 280,
   "metadata": {},
   "outputs": [
    {
     "data": {
      "text/plain": [
       "12.0"
      ]
     },
     "execution_count": 280,
     "metadata": {},
     "output_type": "execute_result"
    }
   ],
   "source": [
    "sum(people_values)"
   ]
  },
  {
   "cell_type": "markdown",
   "metadata": {
    "heading_collapsed": true
   },
   "source": [
    "# Gurobi"
   ]
  },
  {
   "cell_type": "code",
   "execution_count": null,
   "metadata": {
    "hidden": true
   },
   "outputs": [],
   "source": []
  },
  {
   "cell_type": "code",
   "execution_count": 281,
   "metadata": {
    "hidden": true
   },
   "outputs": [
    {
     "name": "stdout",
     "output_type": "stream",
     "text": [
      "True\n",
      "True\n",
      "True\n",
      "True\n"
     ]
    },
    {
     "data": {
      "text/plain": [
       "{0: [0, 2, 5], 1: [3, 4, 6, 8], 2: [1, 7, 9]}"
      ]
     },
     "execution_count": 281,
     "metadata": {},
     "output_type": "execute_result"
    }
   ],
   "source": [
    "## Continuous \n",
    "\n",
    "inputs = pd.read_csv(\"samples/10.in\", header = None)\n",
    "n = int(list(inputs[0])[0])\n",
    "s_max = float(list(inputs[0])[1])\n",
    "K = 3\n",
    "\n",
    "# Parsing input data \n",
    "df = inputs\n",
    "df = pd.DataFrame([x.split() for x in df[0].tolist() ])\n",
    "df = df.loc[2:,:]\n",
    "df[\"i\"] = df.loc[:,0]\n",
    "df[\"j\"] = df.loc[:,1]\n",
    "df[\"sadness\"] = df.loc[:,3]\n",
    "df[\"happiness\"] = df.loc[:,2]\n",
    "df = df[[\"i\", \"j\", \"sadness\", \"happiness\"]]\n",
    "\n",
    "i_id = [int(i) for i in list(df[\"i\"])]\n",
    "j_id = [int(i) for i in list(df[\"j\"])]\n",
    "sadness = [float(i) for i in list(df[\"sadness\"])]*K\n",
    "happiness = [float(i) for i in list(df[\"happiness\"])]*K\n",
    "\n",
    "sadness_1 = [float(i) for i in list(df[\"sadness\"])]\n",
    "happiness_1 = [float(i) for i in list(df[\"happiness\"])]\n",
    "len(sadness) == len(happiness)\n",
    "\n",
    "m = gp.Model(\"proj\")\n",
    "m.setParam('OutputFlag', 0)\n",
    "\n",
    "# Some stuff\n",
    "\n",
    "d_e = {}\n",
    "for k in range(K):\n",
    "    for i in range(comb(n,2)):\n",
    "        d_e[\"e_{0}_{1}_{2}\".format(i_id[i],j_id[i],k)] = m.addVar(name= \"e_{0}_{1}_{2}\".format(i_id[i],j_id[i],k), vtype = GRB.BINARY)\n",
    "edges_1 = list(d_e.values())\n",
    "\n",
    "# Create another edge array with different sort\n",
    "edges_2 = [d_e.get(i) for i in sorted(d_e.keys(), key=lambda x: (x[2], x[4]))]\n",
    "\n",
    "# Create another edge array for constraint 4 \n",
    "edges_3 = [d_e.get(i) for i in sorted(d_e.keys(), key=lambda x: (x[2], x[6]))]\n",
    "\n",
    "# Check\n",
    "print(len(edges_1) == comb(n,2)*K)\n",
    "     \n",
    "# vertices \n",
    "d_v = {}\n",
    "for j in range(K):\n",
    "    for i in range(n):\n",
    "        d_v[\"v_{0}_{1}\".format(i,j)] = m.addVar(name = \"v_{0}_{1}\".format(i,j),  vtype = GRB.BINARY)\n",
    "vertices_1 = list(d_v.values())\n",
    "\n",
    "# Create another edge array with different sort\n",
    "vertices_2 = [d_v.get(i) for i in sorted(d_v.keys(), key=lambda x: x[2])]\n",
    "\n",
    "# Check\n",
    "print(len(vertices_1) == n*K)\n",
    "\n",
    "# Linearization of quadratic variables 1 \n",
    "v_list = np.array(np.array_split(vertices_1, K)).tolist()\n",
    "v_big = []\n",
    "for i in range(K):\n",
    "    j = 0\n",
    "    while j != n:\n",
    "        for _ in range(j,n-1):\n",
    "            v_big.append(v_list[i][j])\n",
    "        j += 1\n",
    "        \n",
    "print(len(edges_1) == len(v_big))\n",
    "\n",
    "# Linearization of quadratic variables 2\n",
    "v_list_2 = [i[1:] for i in v_list]\n",
    "v_big_2 = []\n",
    "for h in range(K):\n",
    "    j = 0\n",
    "    while j != n:\n",
    "        for i in range(j,n-1):\n",
    "            v_big_2.append(v_list_2[h][i])\n",
    "        j += 1\n",
    "        i = j\n",
    "print(len(edges_1) == len(v_big_2))\n",
    "\n",
    "m.setObjective(sum(edges_1[i] * happiness[i] for i in range(len(happiness))), GRB.MAXIMIZE)\n",
    "\n",
    "aa = []\n",
    "h = 0\n",
    "for i in range(K):\n",
    "    for j in range(comb(n,2)):\n",
    "        aa.append(edges_1[h] * sadness_1[j])\n",
    "        h += 1\n",
    "\n",
    "constraint_2 = [sum(aa[i:i+ comb(n,2)]) for i in range(0, len(aa), comb(n,2))]\n",
    "for i in range(len(constraint_2)):\n",
    "    m.addConstr(constraint_2[i] <=  s_max / K)\n",
    "\n",
    "constraint_3 = [sum(vertices_2[i:i + K]) for i in range(0, len(vertices_2), K)]\n",
    "for i in range(len(constraint_3)):\n",
    "    m.addConstr(constraint_3[i] == 1)\n",
    "\n",
    "# Constraint 4'\n",
    "for i in range(len(edges_1)):\n",
    "    m.addConstr(edges_1[i] == v_big[i] * v_big_2[i])\n",
    "\n",
    "hardlimit = 100\n",
    "m.setParam('TimeLimit', hardlimit)\n",
    "m.optimize()\n",
    "\n",
    "pairs = m.getVars()[0 : len(m.getVars()) - n*K]\n",
    "people = m.getVars()[len(m.getVars()) - n*K : len(m.getVars())]\n",
    "people_values = [v.X for v in people]\n",
    "people_values = np.array_split(people_values, K)\n",
    "pair_values = [v.X for v in pairs]\n",
    "np.sum(np.multiply(pair_values, happiness))\n",
    "\n",
    "output_dict = {}\n",
    "for k in range(K):\n",
    "    arr = []\n",
    "    for i in range(n):\n",
    "        if people_values[k][i] == 1: \n",
    "            arr += [i]\n",
    "            output_dict[k] = arr\n",
    "\n",
    "output_dict"
   ]
  },
  {
   "cell_type": "code",
   "execution_count": null,
   "metadata": {
    "hidden": true
   },
   "outputs": [],
   "source": []
  },
  {
   "cell_type": "code",
   "execution_count": null,
   "metadata": {
    "hidden": true
   },
   "outputs": [],
   "source": []
  },
  {
   "cell_type": "code",
   "execution_count": null,
   "metadata": {
    "hidden": true
   },
   "outputs": [],
   "source": []
  }
 ],
 "metadata": {
  "kernelspec": {
   "display_name": "Python 3",
   "language": "python",
   "name": "python3"
  },
  "language_info": {
   "codemirror_mode": {
    "name": "ipython",
    "version": 3
   },
   "file_extension": ".py",
   "mimetype": "text/x-python",
   "name": "python",
   "nbconvert_exporter": "python",
   "pygments_lexer": "ipython3",
   "version": "3.9.0"
  },
  "latex_envs": {
   "LaTeX_envs_menu_present": true,
   "autoclose": true,
   "autocomplete": true,
   "bibliofile": "biblio.bib",
   "cite_by": "apalike",
   "current_citInitial": 1,
   "eqLabelWithNumbers": true,
   "eqNumInitial": 1,
   "hotkeys": {
    "equation": "Ctrl-E",
    "itemize": "Ctrl-I"
   },
   "labels_anchors": false,
   "latex_user_defs": false,
   "report_style_numbering": false,
   "user_envs_cfg": false
  },
  "toc": {
   "base_numbering": 1,
   "nav_menu": {},
   "number_sections": true,
   "sideBar": true,
   "skip_h1_title": false,
   "title_cell": "Table of Contents",
   "title_sidebar": "Contents",
   "toc_cell": false,
   "toc_position": {},
   "toc_section_display": true,
   "toc_window_display": false
  },
  "varInspector": {
   "cols": {
    "lenName": 16,
    "lenType": 16,
    "lenVar": 40
   },
   "kernels_config": {
    "python": {
     "delete_cmd_postfix": "",
     "delete_cmd_prefix": "del ",
     "library": "var_list.py",
     "varRefreshCmd": "print(var_dic_list())"
    },
    "r": {
     "delete_cmd_postfix": ") ",
     "delete_cmd_prefix": "rm(",
     "library": "var_list.r",
     "varRefreshCmd": "cat(var_dic_list()) "
    }
   },
   "types_to_exclude": [
    "module",
    "function",
    "builtin_function_or_method",
    "instance",
    "_Feature"
   ],
   "window_display": false
  }
 },
 "nbformat": 4,
 "nbformat_minor": 4
}
